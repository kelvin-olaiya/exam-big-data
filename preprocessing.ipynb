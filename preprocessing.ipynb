{
 "cells": [
  {
   "cell_type": "markdown",
   "metadata": {},
   "source": [
    "# Big Data Exam Preprocessing Notebook"
   ]
  },
  {
   "cell_type": "code",
   "execution_count": null,
   "metadata": {},
   "outputs": [],
   "source": [
    "import os\n",
    "import json\n",
    "\n",
    "folder_path = \"data\"\n",
    "output_path = \"dataset\"\n",
    "json_files = [os.path.join(folder_path, file) for file in os.listdir(folder_path) if file.endswith(\".json\")]"
   ]
  },
  {
   "cell_type": "code",
   "execution_count": null,
   "metadata": {},
   "outputs": [],
   "source": [
    "from dataclasses import dataclass\n",
    "\n",
    "@dataclass\n",
    "class Playlist:\n",
    "    pid: int\n",
    "    name: str\n",
    "    num_followers: int\n",
    "\n",
    "@dataclass()\n",
    "class Track:\n",
    "    uri: str\n",
    "    name: str\n",
    "    duration: int\n",
    "    artist_uri: str\n",
    "    album_uri: str\n",
    "    album_name: str\n",
    "\n",
    "    def __hash__(self):\n",
    "        return hash(self.uri)\n",
    "    \n",
    "    def __eq__(self, other):\n",
    "        return self.uri == other.uri\n",
    "\n",
    "@dataclass(eq=True, frozen=True)\n",
    "class TrackInPlaylist:\n",
    "    pid: int\n",
    "    track_uri: str\n",
    "    pos: int\n",
    "\n",
    "@dataclass\n",
    "class Artist:\n",
    "    uri: str\n",
    "    name: str\n",
    "\n",
    "    def __hash__(self):\n",
    "        return hash(self.uri)\n",
    "    \n",
    "    def __eq__(self, other):\n",
    "        return self.uri == other.uri"
   ]
  },
  {
   "cell_type": "markdown",
   "metadata": {},
   "source": [
    "## Loading Playlists, Tracks and Artists Data"
   ]
  },
  {
   "cell_type": "code",
   "execution_count": null,
   "metadata": {},
   "outputs": [],
   "source": [
    "from typing import List, MutableSet\n",
    "\n",
    "playlists: List[Playlist] = list()\n",
    "tracks: MutableSet[Track] = set()\n",
    "artists: MutableSet[Artist] = set()\n",
    "tracks_in_playlists: MutableSet[TrackInPlaylist] = set()\n",
    "\n",
    "playlists_loaded = 0\n",
    "\n",
    "for file in json_files:\n",
    "    with open(file, \"r\") as f:\n",
    "        data = json.load(f)\n",
    "        data_playlists = data['playlists']\n",
    "        for playlist in data_playlists:\n",
    "            playlists_loaded += 1\n",
    "            print(f\"\\rCount: {playlists_loaded}/1.000.000\", end=\"\")\n",
    "            parsed_playlist = Playlist(pid=playlist['pid'], name=playlist['name'], num_followers=playlist['num_followers'])\n",
    "            playlists.append(parsed_playlist)\n",
    "            playlist_tracks = playlist['tracks']\n",
    "\n",
    "            for track in playlist_tracks:\n",
    "                parsed_track = Track(uri=track['track_uri'], duration=track['duration_ms'], name=track['track_name'], artist_uri=track['artist_uri'], album_uri=track['album_uri'], album_name=track['album_name'])\n",
    "                tracks.add(parsed_track)\n",
    "\n",
    "                parsed_artist = Artist(uri=track['artist_uri'], name=track['artist_name'])\n",
    "                artists.add(parsed_artist)\n",
    "\n",
    "                parsed_track_in_playlist = TrackInPlaylist(pid=playlist['pid'], track_uri=track['track_uri'], pos=track['pos'])\n",
    "                tracks_in_playlists.add(parsed_track_in_playlist)\n"
   ]
  },
  {
   "cell_type": "code",
   "execution_count": null,
   "metadata": {},
   "outputs": [],
   "source": [
    "import csv\n",
    "\n",
    "playlist_csv_path = os.path.join(output_path, \"playlists.csv\")\n",
    "sorted_playlists = sorted(playlists, key=lambda x: x.pid)\n",
    "\n",
    "with open(playlist_csv_path, \"w\", newline=\"\") as f:\n",
    "    writer = csv.writer(f, delimiter=\",\", lineterminator=\"\\n\")\n",
    "    writer.writerow([\"pid\", \"name\", \"num_followers\"])\n",
    "    for playlist in sorted_playlists:\n",
    "        writer.writerow([playlist.pid, playlist.name, playlist.num_followers])"
   ]
  },
  {
   "cell_type": "markdown",
   "metadata": {},
   "source": [
    "## Exporting Tracks"
   ]
  },
  {
   "cell_type": "code",
   "execution_count": null,
   "metadata": {},
   "outputs": [],
   "source": [
    "tracks_csv_path = os.path.join(output_path, \"tracks.csv\")\n",
    "\n",
    "with open(tracks_csv_path, \"w\", newline=\"\") as f:\n",
    "    writer = csv.writer(f, delimiter=\",\", lineterminator=\"\\n\")\n",
    "    writer.writerow([\"uri\", \"name\", \"duration\", \"artist_uri\", \"album_uri\", \"album_name\"])\n",
    "    for track in tracks:\n",
    "        writer.writerow([track.uri, track.name, track.duration, track.artist_uri, track.album_uri, track.album_name])    \n"
   ]
  },
  {
   "cell_type": "markdown",
   "metadata": {},
   "source": [
    "## Exporting Artist"
   ]
  },
  {
   "cell_type": "code",
   "execution_count": null,
   "metadata": {},
   "outputs": [],
   "source": [
    "artists_csv_path = os.path.join(output_path, \"artists.csv\")\n",
    "\n",
    "with open(artists_csv_path, \"w\", newline=\"\") as f:\n",
    "    writer = csv.writer(f, delimiter=\",\", lineterminator=\"\\n\")\n",
    "    writer.writerow([\"uri\", \"name\"])\n",
    "    for artist in artists:\n",
    "        writer.writerow([artist.uri, artist.name])"
   ]
  },
  {
   "cell_type": "markdown",
   "metadata": {},
   "source": [
    "## Exporting Tracks in Playlists"
   ]
  },
  {
   "cell_type": "code",
   "execution_count": null,
   "metadata": {},
   "outputs": [],
   "source": [
    "tracks_in_playlists_csv_path = os.path.join(output_path, \"tracks_in_playlists.csv\")\n",
    "\n",
    "with open(tracks_in_playlists_csv_path, \"w\", newline=\"\") as f:\n",
    "    writer = csv.writer(f, delimiter=\",\", lineterminator=\"\\n\")\n",
    "    writer.writerow([\"pid\", \"track_uri\", \"pos\"])\n",
    "    for track_in_playlist in tracks_in_playlists:\n",
    "        writer.writerow([track_in_playlist.pid, track_in_playlist.track_uri, track_in_playlist.pos])"
   ]
  }
 ],
 "metadata": {
  "kernelspec": {
   "display_name": "sklearn-env",
   "language": "python",
   "name": "python3"
  },
  "language_info": {
   "codemirror_mode": {
    "name": "ipython",
    "version": 3
   },
   "file_extension": ".py",
   "mimetype": "text/x-python",
   "name": "python",
   "nbconvert_exporter": "python",
   "pygments_lexer": "ipython3",
   "version": "3.12.1"
  }
 },
 "nbformat": 4,
 "nbformat_minor": 2
}
