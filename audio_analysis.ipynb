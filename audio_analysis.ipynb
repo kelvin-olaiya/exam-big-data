{
 "cells": [
  {
   "cell_type": "code",
   "execution_count": null,
   "metadata": {},
   "outputs": [],
   "source": [
    "import requests\n",
    "import os\n",
    "\n",
    "# Get the access token from the environment variables\n",
    "access_token = os.environ.get(\"SPOTIFY_ACCESS_TOKEN\")\n",
    "\n",
    "# Set the endpoint URL\n",
    "url = \"https://api.spotify.com/v1/audio-analysis/\"\n",
    "\n",
    "# Set the headers with your access token\n",
    "headers = {\n",
    "    \"Authorization\": access_token\n",
    "}\n",
    "\n",
    "def get_audio_analysis(track_id):\n",
    "    url = f\"https://api.spotify.com/v1/audio-analysis/{track_id}\"\n",
    "    response = requests.get(url, headers=headers)\n",
    "    if response.status_code == 200:\n",
    "        data = response.json()\n",
    "        return data\n",
    "    elif response.status_code == 401:\n",
    "        return None\n",
    "    \n",
    "print(get_audio_analysis(\"6OLbtcLyVXahwI8GhWDLoC\"))"
   ]
  }
 ],
 "metadata": {
  "language_info": {
   "name": "python"
  }
 },
 "nbformat": 4,
 "nbformat_minor": 2
}
