{
 "cells": [
  {
   "cell_type": "markdown",
   "metadata": {},
   "source": [
    "# Big Data Exam Report @ UniBo a.y. 2023/2024\n",
    "\n",
    "- Manuel Andruccioli\n",
    "- Kelvin Olaiya"
   ]
  },
  {
   "cell_type": "code",
   "execution_count": null,
   "metadata": {},
   "outputs": [],
   "source": [
    "// DO NOT RUN THIS CELL -- ONLY FOR TYPE CHECKER\n",
    "import org.apache.spark.SparkContext\n",
    "val sc = new SparkContext(\"local[*]\", \"BigDataExam\")\n",
    "val spark = org.apache.spark.sql.SparkSession.builder.appName(\"BigDataExam\").getOrCreate()"
   ]
  },
  {
   "cell_type": "code",
   "execution_count": 1,
   "metadata": {},
   "outputs": [
    {
     "data": {
      "text/html": [
       "Current session configs: <tt>{'executorMemory': '8G', 'numExecutors': 2, 'executorCores': 3, 'conf': {'spark.dynamicAllocation.enabled': 'false'}, 'proxyUser': 'assumed-role_voclabs_user871255_Manuel_Andruccioli', 'kind': 'spark'}</tt><br>"
      ],
      "text/plain": [
       "<IPython.core.display.HTML object>"
      ]
     },
     "metadata": {},
     "output_type": "display_data"
    },
    {
     "data": {
      "text/html": [
       "No active sessions."
      ],
      "text/plain": [
       "<IPython.core.display.HTML object>"
      ]
     },
     "metadata": {},
     "output_type": "display_data"
    }
   ],
   "source": [
    "%%configure -f\n",
    "{\"executorMemory\":\"8G\", \"numExecutors\":2, \"executorCores\":3, \"conf\": {\"spark.dynamicAllocation.enabled\": \"false\"}}"
   ]
  },
  {
   "cell_type": "code",
   "execution_count": 2,
   "metadata": {},
   "outputs": [
    {
     "data": {
      "application/vnd.jupyter.widget-view+json": {
       "model_id": "880886c978e54399a313629bec0f68ab",
       "version_major": 2,
       "version_minor": 0
      },
      "text/plain": [
       "VBox()"
      ]
     },
     "metadata": {},
     "output_type": "display_data"
    },
    {
     "name": "stdout",
     "output_type": "stream",
     "text": [
      "Starting Spark application\n"
     ]
    },
    {
     "data": {
      "text/html": [
       "<table>\n",
       "<tr><th>ID</th><th>YARN Application ID</th><th>Kind</th><th>State</th><th>Spark UI</th><th>Driver log</th><th>User</th><th>Current session?</th></tr><tr><td>0</td><td>application_1714141781578_0001</td><td>spark</td><td>idle</td><td><a target=\"_blank\" href=\"http://ip-172-31-34-183.ec2.internal:20888/proxy/application_1714141781578_0001/\" class=\"emr-proxy-link\" emr-resource=\"j-Y7GHZ6ZNFOHP\n",
       "\" application-id=\"application_1714141781578_0001\">Link</a></td><td><a target=\"_blank\" href=\"http://ip-172-31-32-115.ec2.internal:8042/node/containerlogs/container_1714141781578_0001_01_000001/livy\" >Link</a></td><td>None</td><td>✔</td></tr></table>"
      ],
      "text/plain": [
       "<IPython.core.display.HTML object>"
      ]
     },
     "metadata": {},
     "output_type": "display_data"
    },
    {
     "data": {
      "application/vnd.jupyter.widget-view+json": {
       "model_id": "",
       "version_major": 2,
       "version_minor": 0
      },
      "text/plain": [
       "FloatProgress(value=0.0, bar_style='info', description='Progress:', layout=Layout(height='25px', width='50%'),…"
      ]
     },
     "metadata": {},
     "output_type": "display_data"
    },
    {
     "name": "stdout",
     "output_type": "stream",
     "text": [
      "SparkSession available as 'spark'.\n"
     ]
    },
    {
     "data": {
      "application/vnd.jupyter.widget-view+json": {
       "model_id": "",
       "version_major": 2,
       "version_minor": 0
      },
      "text/plain": [
       "FloatProgress(value=0.0, bar_style='info', description='Progress:', layout=Layout(height='25px', width='50%'),…"
      ]
     },
     "metadata": {},
     "output_type": "display_data"
    },
    {
     "name": "stdout",
     "output_type": "stream",
     "text": [
      "res1: String = application_1714141781578_0001\n",
      "res3: String = SPARK UI: Enable forwarding of port 20888 and connect to http://localhost:20888/proxy/application_1714141781578_0001/\n"
     ]
    }
   ],
   "source": [
    "sc.applicationId\n",
    "\n",
    "\"SPARK UI: Enable forwarding of port 20888 and connect to http://localhost:20888/proxy/\" + sc.applicationId + \"/\""
   ]
  },
  {
   "cell_type": "code",
   "execution_count": 3,
   "metadata": {
    "ExecuteTime": {
     "end_time": "2024-04-24T12:35:52.873694Z",
     "start_time": "2024-04-24T12:35:52.567372Z"
    }
   },
   "outputs": [
    {
     "data": {
      "application/vnd.jupyter.widget-view+json": {
       "model_id": "916a37b6c74f48d9a6fc84a03770d0d1",
       "version_major": 2,
       "version_minor": 0
      },
      "text/plain": [
       "VBox()"
      ]
     },
     "metadata": {},
     "output_type": "display_data"
    },
    {
     "data": {
      "application/vnd.jupyter.widget-view+json": {
       "model_id": "",
       "version_major": 2,
       "version_minor": 0
      },
      "text/plain": [
       "FloatProgress(value=0.0, bar_style='info', description='Progress:', layout=Layout(height='25px', width='50%'),…"
      ]
     },
     "metadata": {},
     "output_type": "display_data"
    },
    {
     "name": "stdout",
     "output_type": "stream",
     "text": [
      "unpersistRDD: ()Unit\n"
     ]
    }
   ],
   "source": [
    "def unpersistRDD(): Unit = {\n",
    "  sc.getPersistentRDDs.foreach(_._2.unpersist())\n",
    "}"
   ]
  },
  {
   "cell_type": "markdown",
   "metadata": {},
   "source": [
    "## Data structures and definitions\n",
    "\n",
    "### Utility function for parsing"
   ]
  },
  {
   "cell_type": "code",
   "execution_count": 4,
   "metadata": {
    "ExecuteTime": {
     "end_time": "2024-04-24T12:35:53.579889Z",
     "start_time": "2024-04-24T12:35:52.874545Z"
    }
   },
   "outputs": [
    {
     "data": {
      "application/vnd.jupyter.widget-view+json": {
       "model_id": "d02b7a5124dd4e0e8596689222490c44",
       "version_major": 2,
       "version_minor": 0
      },
      "text/plain": [
       "VBox()"
      ]
     },
     "metadata": {},
     "output_type": "display_data"
    },
    {
     "data": {
      "application/vnd.jupyter.widget-view+json": {
       "model_id": "",
       "version_major": 2,
       "version_minor": 0
      },
      "text/plain": [
       "FloatProgress(value=0.0, bar_style='info', description='Progress:', layout=Layout(height='25px', width='50%'),…"
      ]
     },
     "metadata": {},
     "output_type": "display_data"
    },
    {
     "name": "stdout",
     "output_type": "stream",
     "text": [
      "getCharIndexes: (line: String, char: Char)Seq[Int]\n",
      "splitAt: (s: String, indices: Seq[Int])Seq[String]\n",
      "parseCSVLine: (l: String)Seq[String]\n"
     ]
    }
   ],
   "source": [
    "def getCharIndexes(line: String, char: Char): Seq[Int] = line.zipWithIndex.filter(_._1 == char).map(_._2) \n",
    "def splitAt(s: String, indices: Seq[Int]): Seq[String] = indices match {\n",
    "  case h +: t => s.splitAt(h) match {\n",
    "    case (a, b) => a +: splitAt(b, t.map(_ - h))\n",
    "  }\n",
    "  case Nil => Seq(s)\n",
    "}\n",
    "def parseCSVLine(l: String): Seq[String] = {\n",
    "  val apices = getCharIndexes(l, '\"').grouped(2).map { case Seq(a, b) => (a, b) }.toSeq\n",
    "  val commas = getCharIndexes(l, ',').filter(i => !apices.exists { case (a, b) => a < i && i < b })\n",
    "  return splitAt(l, commas).map(_.dropWhile(s => s == ',' || s == ' ')).map(_.replaceAll(\"^\\\"|\\\"$\", \"\"))\n",
    "}"
   ]
  },
  {
   "cell_type": "markdown",
   "metadata": {},
   "source": [
    "### Data structures"
   ]
  },
  {
   "cell_type": "code",
   "execution_count": 5,
   "metadata": {
    "ExecuteTime": {
     "end_time": "2024-04-24T12:35:54.214440Z",
     "start_time": "2024-04-24T12:35:53.581907Z"
    }
   },
   "outputs": [
    {
     "data": {
      "application/vnd.jupyter.widget-view+json": {
       "model_id": "57b18f3946b34751b72d78c42436de3e",
       "version_major": 2,
       "version_minor": 0
      },
      "text/plain": [
       "VBox()"
      ]
     },
     "metadata": {},
     "output_type": "display_data"
    },
    {
     "data": {
      "application/vnd.jupyter.widget-view+json": {
       "model_id": "",
       "version_major": 2,
       "version_minor": 0
      },
      "text/plain": [
       "FloatProgress(value=0.0, bar_style='info', description='Progress:', layout=Layout(height='25px', width='50%'),…"
      ]
     },
     "metadata": {},
     "output_type": "display_data"
    },
    {
     "name": "stdout",
     "output_type": "stream",
     "text": [
      "defined class Track\n",
      "defined object Tracks\n",
      "defined class Playlist\n",
      "defined object Playlists\n",
      "defined class TrackInPlaylist\n",
      "defined object TrackInPlaylists\n",
      "defined class Artist\n",
      "defined object Artists\n",
      "defined class Album\n",
      "defined object Albums\n",
      "defined class Feature\n",
      "defined object Features\n"
     ]
    }
   ],
   "source": [
    "case class Track(\n",
    "  uri: String,\n",
    "  name: String,\n",
    "  duration: Int,\n",
    "  explicit: Boolean,\n",
    "  artists: String,            // List of artists uri, separated by |\n",
    "  available_markets: String,  // List of markets, separated by |\n",
    "  album_uri: String,\n",
    "  popularity: Int,\n",
    ")\n",
    "\n",
    "object Tracks {\n",
    "  def fromCSVLine(line: String): Option[Track] = \n",
    "    parseCSVLine(line) match {\n",
    "      case Seq(uri, name, duration, explicit, artists, available_markets, album_uri, popularity) =>\n",
    "        try {\n",
    "          Some(Track(uri, name, duration.toInt, explicit.toBoolean, artists, available_markets, album_uri, popularity.toInt))\n",
    "        } catch {\n",
    "          case _: Throwable => None\n",
    "        }\n",
    "    }\n",
    "}\n",
    "\n",
    "case class Playlist(\n",
    "  pid: Int,\n",
    "  name: String,\n",
    "  num_follower: Int,\n",
    ")\n",
    "\n",
    "object Playlists {\n",
    "  def fromCSVLine(line: String): Option[Playlist] = \n",
    "    parseCSVLine(line) match {\n",
    "      case Seq(pid, name, num_follower) =>\n",
    "        try {\n",
    "            Some(Playlist(pid.toInt, name, num_follower.toInt))\n",
    "        } catch {\n",
    "          case _: Throwable => None\n",
    "        }\n",
    "    }\n",
    "}\n",
    "\n",
    "case class TrackInPlaylist(\n",
    "  pid: Int,\n",
    "  track_uri: String,\n",
    "  pos: Int,\n",
    ")\n",
    "\n",
    "object TrackInPlaylists {\n",
    "  def fromCSVLine(line: String): Option[TrackInPlaylist] = \n",
    "    parseCSVLine(line) match {\n",
    "      case Seq(pid, track_uri, pos) =>\n",
    "        try {\n",
    "          Some(TrackInPlaylist(pid.toInt, track_uri, pos.toInt))\n",
    "        } catch {\n",
    "          case _: Throwable => None\n",
    "        }\n",
    "    }\n",
    "}\n",
    "\n",
    "case class Artist(\n",
    "  uri: String,\n",
    "  name: String,\n",
    "  followers: Int,\n",
    "  genres: String,             // List of genres, separated by |\n",
    "  popularity: Int,\n",
    ")\n",
    "\n",
    "object Artists {\n",
    "  def fromCSVLine(line: String): Option[Artist] =\n",
    "    parseCSVLine(line) match {\n",
    "      case Seq(uri, name, followers, genres, popularity) =>\n",
    "        try {\n",
    "          Some(Artist(uri, name, followers.toInt, genres, popularity.toInt))\n",
    "        } catch {\n",
    "          case _: Throwable => None\n",
    "        }\n",
    "    }\n",
    "}\n",
    "\n",
    "case class Album(\n",
    "  uri: String,\n",
    "  name: String,\n",
    "  album_type: String,         // album, compilation, single.\n",
    "  artists: String,            // List of artists uri, separated by |\n",
    "  available_markets: String,  // List of markets, separated by |\n",
    "  release_year: String,\n",
    "  total_tracks: Int,\n",
    ")\n",
    "\n",
    "object Albums {\n",
    "  def fromCSVLine(line: String): Option[Album] = \n",
    "    parseCSVLine(line) match {\n",
    "      case Seq(uri, name, album_type, artists, available_markets, release_year, total_tracks) =>\n",
    "        try {\n",
    "          Some(Album(uri, name, album_type, artists, available_markets, release_year, total_tracks.toInt))\n",
    "        } catch {\n",
    "          case _: Throwable => None\n",
    "        }\n",
    "    }\n",
    "}\n",
    "\n",
    "case class Feature(\n",
    "  uri: String,\n",
    "  key: Int,\n",
    "  loudness: Double,\n",
    "  tempo: Double,\n",
    "  mode: Boolean,\n",
    "  danceability: Double,\n",
    "  valence: Double,\n",
    "  instrumentalness: Double,\n",
    "  liveness: Double,\n",
    "  acousticness: Double,\n",
    "  energy: Double,\n",
    "  speechiness: Double,\n",
    ")\n",
    "\n",
    "object Features {\n",
    "  def fromCSVLine(line: String): Option[Feature] = \n",
    "    parseCSVLine(line) match {\n",
    "      case Seq(uri, key, loudness, tempo, mode, danceability, valence, instrumentalness, liveness, acousticness, energy, speechiness) =>\n",
    "        try {\n",
    "          Some(Feature(uri, key.toInt, loudness.toDouble, tempo.toDouble, mode.toInt == 1, danceability.toDouble, valence.toDouble, instrumentalness.toDouble, liveness.toDouble, acousticness.toDouble, energy.toDouble, speechiness.toDouble))\n",
    "        } catch {\n",
    "          case e: Throwable => None\n",
    "        }\n",
    "    }\n",
    "}"
   ]
  },
  {
   "cell_type": "markdown",
   "metadata": {},
   "source": [
    "## Dataset exploration"
   ]
  },
  {
   "cell_type": "code",
   "execution_count": 6,
   "metadata": {
    "ExecuteTime": {
     "end_time": "2024-04-24T12:35:55.960439Z",
     "start_time": "2024-04-24T12:35:54.216170Z"
    }
   },
   "outputs": [
    {
     "data": {
      "application/vnd.jupyter.widget-view+json": {
       "model_id": "bff5a7a64a984dbba07c2dc8bdce62e9",
       "version_major": 2,
       "version_minor": 0
      },
      "text/plain": [
       "VBox()"
      ]
     },
     "metadata": {},
     "output_type": "display_data"
    },
    {
     "data": {
      "application/vnd.jupyter.widget-view+json": {
       "model_id": "",
       "version_major": 2,
       "version_minor": 0
      },
      "text/plain": [
       "FloatProgress(value=0.0, bar_style='info', description='Progress:', layout=Layout(height='25px', width='50%'),…"
      ]
     },
     "metadata": {},
     "output_type": "display_data"
    },
    {
     "name": "stdout",
     "output_type": "stream",
     "text": [
      "datasetPath: String = s3://unibo-bd2324-manuandru/exam/\n",
      "outputPath: String = s3://unibo-bd2324-manuandru/exam/output/\n",
      "albumRdd: org.apache.spark.rdd.RDD[Album] = MapPartitionsRDD[2] at flatMap at <console>:26\n",
      "artistRdd: org.apache.spark.rdd.RDD[Artist] = MapPartitionsRDD[5] at flatMap at <console>:25\n",
      "featureRdd: org.apache.spark.rdd.RDD[Feature] = MapPartitionsRDD[8] at flatMap at <console>:25\n",
      "playlistRdd: org.apache.spark.rdd.RDD[Playlist] = MapPartitionsRDD[11] at flatMap at <console>:25\n",
      "trackInPlaylistRdd: org.apache.spark.rdd.RDD[TrackInPlaylist] = MapPartitionsRDD[14] at flatMap at <console>:25\n",
      "trackRdd: org.apache.spark.rdd.RDD[Track] = MapPartitionsRDD[17] at flatMap at <console>:25\n"
     ]
    }
   ],
   "source": [
    "val datasetPath = \"s3://unibo-bd2324-manuandru/exam/\"\n",
    "val outputPath = s\"${datasetPath}output/\"\n",
    "\n",
    "val albumRdd = sc.textFile(s\"${datasetPath}albums.csv\").flatMap(Albums.fromCSVLine)\n",
    "val artistRdd = sc.textFile(s\"${datasetPath}artists.csv\").flatMap(Artists.fromCSVLine)\n",
    "val featureRdd = sc.textFile(s\"${datasetPath}features.csv\").flatMap(Features.fromCSVLine)\n",
    "val playlistRdd = sc.textFile(s\"${datasetPath}playlists.csv\").flatMap(Playlists.fromCSVLine)\n",
    "val trackInPlaylistRdd = sc.textFile(s\"${datasetPath}tracks_in_playlists.csv\").flatMap(TrackInPlaylists.fromCSVLine)\n",
    "val trackRdd = sc.textFile(s\"${datasetPath}tracks.csv\").flatMap(Tracks.fromCSVLine)"
   ]
  },
  {
   "cell_type": "code",
   "execution_count": 7,
   "metadata": {},
   "outputs": [
    {
     "data": {
      "application/vnd.jupyter.widget-view+json": {
       "model_id": "a383277316ce4623922900bb734d752c",
       "version_major": 2,
       "version_minor": 0
      },
      "text/plain": [
       "VBox()"
      ]
     },
     "metadata": {},
     "output_type": "display_data"
    },
    {
     "data": {
      "application/vnd.jupyter.widget-view+json": {
       "model_id": "",
       "version_major": 2,
       "version_minor": 0
      },
      "text/plain": [
       "FloatProgress(value=0.0, bar_style='info', description='Progress:', layout=Layout(height='25px', width='50%'),…"
      ]
     },
     "metadata": {},
     "output_type": "display_data"
    },
    {
     "name": "stdout",
     "output_type": "stream",
     "text": [
      "albumRddCached: albumRdd.type = MapPartitionsRDD[2] at flatMap at <console>:26\n",
      "artistRddCached: artistRdd.type = MapPartitionsRDD[5] at flatMap at <console>:25\n",
      "featureRddCached: featureRdd.type = MapPartitionsRDD[8] at flatMap at <console>:25\n",
      "playlistRddCached: playlistRdd.type = MapPartitionsRDD[11] at flatMap at <console>:25\n",
      "trackInPlaylistRddCached: trackInPlaylistRdd.type = MapPartitionsRDD[14] at flatMap at <console>:25\n",
      "trackRddCached: trackRdd.type = MapPartitionsRDD[17] at flatMap at <console>:25\n"
     ]
    }
   ],
   "source": [
    "val albumRddCached = albumRdd.cache()\n",
    "val artistRddCached = artistRdd.cache()\n",
    "val featureRddCached = featureRdd.cache()\n",
    "val playlistRddCached = playlistRdd.cache()\n",
    "val trackInPlaylistRddCached = trackInPlaylistRdd.cache()\n",
    "val trackRddCached = trackRdd.cache()"
   ]
  },
  {
   "cell_type": "code",
   "execution_count": 8,
   "metadata": {},
   "outputs": [
    {
     "data": {
      "application/vnd.jupyter.widget-view+json": {
       "model_id": "ac27193407ab44cfb0097317c8f0da6a",
       "version_major": 2,
       "version_minor": 0
      },
      "text/plain": [
       "VBox()"
      ]
     },
     "metadata": {},
     "output_type": "display_data"
    },
    {
     "data": {
      "application/vnd.jupyter.widget-view+json": {
       "model_id": "",
       "version_major": 2,
       "version_minor": 0
      },
      "text/plain": [
       "FloatProgress(value=0.0, bar_style='info', description='Progress:', layout=Layout(height='25px', width='50%'),…"
      ]
     },
     "metadata": {},
     "output_type": "display_data"
    },
    {
     "name": "stdout",
     "output_type": "stream",
     "text": [
      "Number of Albums: 734381\n",
      "Number of Artists: 414153\n",
      "Number of Track's Feature: 2261031\n",
      "Number of Playlist: 2000000\n",
      "Number of Tracks add in Playlists: 193778287\n",
      "Number of Tracks: 2261729\n"
     ]
    }
   ],
   "source": [
    "println(s\"Number of Albums: ${albumRddCached.count()}\")\n",
    "println(s\"Number of Artists: ${artistRddCached.count()}\")\n",
    "println(s\"Number of Track's Feature: ${featureRddCached.count()}\")\n",
    "println(s\"Number of Playlist: ${playlistRddCached.count()}\")\n",
    "println(s\"Number of Tracks add in Playlists: ${trackInPlaylistRddCached.count()}\")\n",
    "println(s\"Number of Tracks: ${trackRddCached.count()}\")"
   ]
  },
  {
   "cell_type": "markdown",
   "metadata": {},
   "source": [
    "### Average number of tracks"
   ]
  },
  {
   "cell_type": "code",
   "execution_count": 9,
   "metadata": {},
   "outputs": [
    {
     "data": {
      "application/vnd.jupyter.widget-view+json": {
       "model_id": "096381082f594372bf45a3c7d5f5fb8c",
       "version_major": 2,
       "version_minor": 0
      },
      "text/plain": [
       "VBox()"
      ]
     },
     "metadata": {},
     "output_type": "display_data"
    },
    {
     "data": {
      "application/vnd.jupyter.widget-view+json": {
       "model_id": "",
       "version_major": 2,
       "version_minor": 0
      },
      "text/plain": [
       "FloatProgress(value=0.0, bar_style='info', description='Progress:', layout=Layout(height='25px', width='50%'),…"
      ]
     },
     "metadata": {},
     "output_type": "display_data"
    },
    {
     "name": "stdout",
     "output_type": "stream",
     "text": [
      "In Playlist: 97\n",
      "In Album: 11\n",
      "Per Artist (double counting on artist): 7\n"
     ]
    }
   ],
   "source": [
    "println(s\"In Playlist: ${(trackInPlaylistRddCached.count().toDouble / playlistRddCached.count().toDouble).round}\")\n",
    "println(s\"In Album: ${(albumRddCached.map(_.total_tracks).sum() / albumRddCached.count().toDouble).round}\")\n",
    "println(s\"Per Artist (double counting on artist): ${\n",
    "  trackRddCached.flatMap(t => t.artists.split('|').map(a => (a, 1))).\n",
    "    reduceByKey(_ + _).\n",
    "    map { case (_, count) => count }.\n",
    "    mean().round}\")"
   ]
  },
  {
   "cell_type": "markdown",
   "metadata": {},
   "source": [
    "### Explicit vs Non-Explicit Tracks"
   ]
  },
  {
   "cell_type": "code",
   "execution_count": 10,
   "metadata": {},
   "outputs": [
    {
     "data": {
      "application/vnd.jupyter.widget-view+json": {
       "model_id": "bdcc302658a54f9fbd7c708ee51bd2db",
       "version_major": 2,
       "version_minor": 0
      },
      "text/plain": [
       "VBox()"
      ]
     },
     "metadata": {},
     "output_type": "display_data"
    },
    {
     "data": {
      "application/vnd.jupyter.widget-view+json": {
       "model_id": "",
       "version_major": 2,
       "version_minor": 0
      },
      "text/plain": [
       "FloatProgress(value=0.0, bar_style='info', description='Progress:', layout=Layout(height='25px', width='50%'),…"
      ]
     },
     "metadata": {},
     "output_type": "display_data"
    },
    {
     "name": "stdout",
     "output_type": "stream",
     "text": [
      "import org.apache.spark.sql.SaveMode\n"
     ]
    }
   ],
   "source": [
    "import org.apache.spark.sql.SaveMode\n",
    "\n",
    "trackRddCached.map(t => (t.explicit, 1)).\n",
    "  reduceByKey(_ + _).\n",
    "  coalesce(1).\n",
    "  toDF().write.format(\"csv\").mode(SaveMode.Overwrite).save(s\"${outputPath}explicit_vs_non_explicit.csv\")"
   ]
  },
  {
   "cell_type": "markdown",
   "metadata": {},
   "source": [
    "![Explicit vs Non-Explicit Tracks](./img/explicit_vs_non_explicit.png)"
   ]
  },
  {
   "cell_type": "markdown",
   "metadata": {},
   "source": [
    "### Tracks per year"
   ]
  },
  {
   "cell_type": "code",
   "execution_count": 11,
   "metadata": {},
   "outputs": [
    {
     "data": {
      "application/vnd.jupyter.widget-view+json": {
       "model_id": "8d15048af7224158810f1fff9432ddbd",
       "version_major": 2,
       "version_minor": 0
      },
      "text/plain": [
       "VBox()"
      ]
     },
     "metadata": {},
     "output_type": "display_data"
    },
    {
     "data": {
      "application/vnd.jupyter.widget-view+json": {
       "model_id": "",
       "version_major": 2,
       "version_minor": 0
      },
      "text/plain": [
       "FloatProgress(value=0.0, bar_style='info', description='Progress:', layout=Layout(height='25px', width='50%'),…"
      ]
     },
     "metadata": {},
     "output_type": "display_data"
    },
    {
     "name": "stdout",
     "output_type": "stream",
     "text": [
      "res27: Array[String] = Array(0000, 0001, 0013, 1197, 1885, 1889, 1899, 1900, 1901, 1905, 1906, 1908, 1909, 1910, 1911, 1917, 1918, 1919, 1920, 1922, 1923, 1924, 1925, 1926, 1927, 1928, 1929, 1930, 1931, 1932, 1933, 1934, 1935, 1936, 1937, 1938, 1939, 1940, 1941, 1942, 1943, 1944, 1945, 1946, 1947, 1948, 1949, 1950, 1951, 1952, 1953, 1954, 1955, 1956, 1957, 1958, 1959, 1960, 1961, 1962, 1963, 1964, 1965, 1966, 1967, 1968, 1969, 1970, 1971, 1972, 1973, 1974, 1975, 1976, 1977, 1978, 1979, 1980, 1981, 1982, 1983, 1984, 1985, 1986, 1987, 1988, 1989, 1990, 1991, 1992, 1993, 1994, 1995, 1996, 1997, 1998, 1999, 2000, 2001, 2002, 2003, 2004, 2005, 2006, 2007, 2008, 2009, 2010, 2011, 2012, 2013, 2014, 2015, 2016, 2017, 2018, 2019, 2020, 2021, 2022, 2023, 2024)\n"
     ]
    }
   ],
   "source": [
    "albumRddCached.map(a => a.release_year).\n",
    "  distinct().collect().sorted\n",
    "\n",
    "albumRddCached.map(a => (a.uri, a.release_year)).\n",
    "  join(trackRddCached.map(t => (t.album_uri, (t.uri, t.popularity)))).\n",
    "  map { case (albumUri, (releaseYear, (trackUri, popularity))) => (releaseYear, 1) }.\n",
    "  reduceByKey(_ + _).\n",
    "  coalesce(1).\n",
    "  sortByKey().\n",
    "  toDF().write.format(\"csv\").mode(SaveMode.Overwrite).save(s\"${outputPath}tracks_per_year.csv\")"
   ]
  },
  {
   "cell_type": "markdown",
   "metadata": {},
   "source": [
    "![Track per Year](./img/tracks_per_year.png)"
   ]
  },
  {
   "cell_type": "markdown",
   "metadata": {},
   "source": [
    "### Top\n",
    "\n",
    "#### Most followed Playlist"
   ]
  },
  {
   "cell_type": "code",
   "execution_count": 12,
   "metadata": {},
   "outputs": [
    {
     "data": {
      "application/vnd.jupyter.widget-view+json": {
       "model_id": "8328fff27e6e4f15aba89d95dd3d1834",
       "version_major": 2,
       "version_minor": 0
      },
      "text/plain": [
       "VBox()"
      ]
     },
     "metadata": {},
     "output_type": "display_data"
    },
    {
     "data": {
      "application/vnd.jupyter.widget-view+json": {
       "model_id": "",
       "version_major": 2,
       "version_minor": 0
      },
      "text/plain": [
       "FloatProgress(value=0.0, bar_style='info', description='Progress:', layout=Layout(height='25px', width='50%'),…"
      ]
     },
     "metadata": {},
     "output_type": "display_data"
    }
   ],
   "source": [
    "playlistRddCached.map(p => (p.pid, p.name, p.num_follower)).\n",
    "  sortBy(_._3, ascending = false).\n",
    "  coalesce(1).\n",
    "  toDF().write.format(\"csv\").mode(SaveMode.Overwrite).save(s\"${outputPath}playlist_with_followers.csv\")"
   ]
  },
  {
   "cell_type": "markdown",
   "metadata": {},
   "source": [
    "![Top 10 playlist per followers](./img/top10_playlist_per_followers.png)"
   ]
  },
  {
   "cell_type": "markdown",
   "metadata": {},
   "source": [
    "#### Most popular Playlist\n",
    "\n",
    "The playlist popularity is calculated as the mean of the popularity of the tracks in the playlist."
   ]
  },
  {
   "cell_type": "code",
   "execution_count": 13,
   "metadata": {},
   "outputs": [
    {
     "data": {
      "application/vnd.jupyter.widget-view+json": {
       "model_id": "9cbf70e4983e4605b5f83511ce6ca626",
       "version_major": 2,
       "version_minor": 0
      },
      "text/plain": [
       "VBox()"
      ]
     },
     "metadata": {},
     "output_type": "display_data"
    },
    {
     "data": {
      "application/vnd.jupyter.widget-view+json": {
       "model_id": "",
       "version_major": 2,
       "version_minor": 0
      },
      "text/plain": [
       "FloatProgress(value=0.0, bar_style='info', description='Progress:', layout=Layout(height='25px', width='50%'),…"
      ]
     },
     "metadata": {},
     "output_type": "display_data"
    }
   ],
   "source": [
    "trackInPlaylistRddCached.\n",
    "  map(t => (t.track_uri, t.pid)).\n",
    "  join(trackRddCached.map(t => (t.uri, t.popularity))).\n",
    "  map { case (_, (pid, popularity)) => (pid, popularity) }.\n",
    "  aggregateByKey((0, 0))(\n",
    "    { case ((acc, count), popularity) => (acc + popularity, count + 1) },\n",
    "    { case ((acc1, count1), (acc2, count2)) => (acc1 + acc2, count1 + count2) }\n",
    "  ).mapValues { case (acc, count) => acc.toDouble / count }.\n",
    "  join(playlistRddCached.map(p => (p.pid, p.name))).\n",
    "  map { case (pid, (popularity, name)) => (pid, name, popularity) }.\n",
    "  sortBy(_._3, ascending = false).\n",
    "  coalesce(1).\n",
    "  toDF().write.format(\"csv\").mode(SaveMode.Overwrite).save(s\"${outputPath}playlist_with_popularity.csv\")"
   ]
  },
  {
   "cell_type": "markdown",
   "metadata": {},
   "source": [
    "![Top playlist per popularity](./img/top_playlist_per_popularity.png)"
   ]
  },
  {
   "cell_type": "code",
   "execution_count": 14,
   "metadata": {},
   "outputs": [
    {
     "data": {
      "application/vnd.jupyter.widget-view+json": {
       "model_id": "47f944cd1974418e9d7e78fce3be1410",
       "version_major": 2,
       "version_minor": 0
      },
      "text/plain": [
       "VBox()"
      ]
     },
     "metadata": {},
     "output_type": "display_data"
    },
    {
     "data": {
      "application/vnd.jupyter.widget-view+json": {
       "model_id": "",
       "version_major": 2,
       "version_minor": 0
      },
      "text/plain": [
       "FloatProgress(value=0.0, bar_style='info', description='Progress:', layout=Layout(height='25px', width='50%'),…"
      ]
     },
     "metadata": {},
     "output_type": "display_data"
    }
   ],
   "source": [
    "unpersistRDD()"
   ]
  },
  {
   "cell_type": "markdown",
   "metadata": {},
   "source": [
    "## Job 1\n",
    "\n",
    "Given the following metrics:\n",
    "\n",
    "  - track's popularity\n",
    "  - average popularity of tracks in year\n",
    "  - artist popularity (average if more artists are present in the track)\n",
    "\n",
    "Understand which metrics influence mostly the playlists, averaging the values of the tracks appearing in each.\n",
    "Also, aggregate the playlists on the previously calculated influence by averaging for the number of playlist followers.\n",
    "\n",
    "> **most influent**: the metric that has the highest average value for a playlist. \n",
    "\n",
    "The query let us answering the following question:\n",
    "a playlist influenced most by the popularity of the tracks has, on average, 500 followers. (Same for the other two metrics)."
   ]
  },
  {
   "cell_type": "markdown",
   "metadata": {},
   "source": [
    "### Non optimized\n",
    "\n",
    "First of all, we need to calculate the `popularity of the year`.\n",
    "\n",
    "$$ \\texttt{Popularity of the year} = \n",
    "\\frac{\n",
    "  \\sum{\\texttt{popularity of tracks in that year}}\n",
    "}{\n",
    "  \\texttt{Number of tracks in that year}\n",
    "}\n",
    "$$\n",
    "\n",
    "Given the fact that the `release year` of a track is on the album, we need to join the track with the album to get it.\n",
    "After this first step, we can calculate the average popularity of the year."
   ]
  },
  {
   "cell_type": "code",
   "execution_count": 15,
   "metadata": {},
   "outputs": [
    {
     "data": {
      "application/vnd.jupyter.widget-view+json": {
       "model_id": "3256fa2e2aa64e0a8479bb9e49699e34",
       "version_major": 2,
       "version_minor": 0
      },
      "text/plain": [
       "VBox()"
      ]
     },
     "metadata": {},
     "output_type": "display_data"
    },
    {
     "data": {
      "application/vnd.jupyter.widget-view+json": {
       "model_id": "",
       "version_major": 2,
       "version_minor": 0
      },
      "text/plain": [
       "FloatProgress(value=0.0, bar_style='info', description='Progress:', layout=Layout(height='25px', width='50%'),…"
      ]
     },
     "metadata": {},
     "output_type": "display_data"
    },
    {
     "name": "stdout",
     "output_type": "stream",
     "text": [
      "popularityPerYear: org.apache.spark.rdd.RDD[(String, Double)] = MapPartitionsRDD[86] at mapValues at <console>:32\n"
     ]
    }
   ],
   "source": [
    "// year -> popularity of the year\n",
    "val popularityPerYear = trackRdd.map(t => (t.album_uri, (t.uri, t.popularity))).\n",
    "  join(albumRdd.map(a => (a.uri, a.release_year))).\n",
    "  map { case (albumUri, ((trackUri, popularity), releaseYear)) => (releaseYear, popularity) }.\n",
    "  aggregateByKey((0, 0))(\n",
    "    { case ((acc, count), popularity) => (acc + popularity, count + 1) },\n",
    "    { case ((acc1, count1), (acc2, count2)) => (acc1 + acc2, count1 + count2) }\n",
    "  ).mapValues { case (acc, count) => acc.toDouble / count }"
   ]
  },
  {
   "cell_type": "markdown",
   "metadata": {},
   "source": [
    "After that, we need to get the `artist's popularity of a track`.\n",
    "Given the fact that a track can have multiple artists, the `artist's popularity of a track` will be a mean of the `artist popularity` of the artists in the track.\n",
    "\n",
    "$$ \\texttt{Artist's popularity of a track} =\n",
    "\\frac{\n",
    "  \\sum{\\texttt{popularity of artists in the track}}\n",
    "}{\n",
    "  \\texttt{Number of artists in the track}\n",
    "}\n",
    "$$\n",
    "\n",
    "> **Note**: The `artists_uri` is a *denormalized* field in the track, so we need to split it."
   ]
  },
  {
   "cell_type": "code",
   "execution_count": 16,
   "metadata": {},
   "outputs": [
    {
     "data": {
      "application/vnd.jupyter.widget-view+json": {
       "model_id": "0b02eb727a864e0c9fc881384c7a7806",
       "version_major": 2,
       "version_minor": 0
      },
      "text/plain": [
       "VBox()"
      ]
     },
     "metadata": {},
     "output_type": "display_data"
    },
    {
     "data": {
      "application/vnd.jupyter.widget-view+json": {
       "model_id": "",
       "version_major": 2,
       "version_minor": 0
      },
      "text/plain": [
       "FloatProgress(value=0.0, bar_style='info', description='Progress:', layout=Layout(height='25px', width='50%'),…"
      ]
     },
     "metadata": {},
     "output_type": "display_data"
    },
    {
     "name": "stdout",
     "output_type": "stream",
     "text": [
      "trackWithArtistPopularity: org.apache.spark.rdd.RDD[(String, Double)] = MapPartitionsRDD[94] at mapValues at <console>:32\n"
     ]
    }
   ],
   "source": [
    "// track -> artist's popularity\n",
    "val trackWithArtistPopularity = trackRdd.flatMap(t => t.artists.split('|').map(artistUri => (artistUri, t.uri))).\n",
    "  join(artistRdd.map(a => (a.uri, a.popularity))).\n",
    "  map { case (artistUri, (trackUri, artistPopularity)) => (trackUri, artistPopularity) }.\n",
    "  aggregateByKey((0, 0))(\n",
    "    { case ((acc, count), popularity) => (acc + popularity, count + 1) },\n",
    "    { case ((acc1, count1), (acc2, count2)) => (acc1 + acc2, count1 + count2) }\n",
    "  ).mapValues { case (acc, count) => acc.toDouble / count }"
   ]
  },
  {
   "cell_type": "markdown",
   "metadata": {},
   "source": [
    "At this point we can join all the data to get the `popularity`, `average popularity of the year` and `artist's popularity` of a track.\n",
    "\n",
    "$$\n",
    "\\texttt{track_uri} \\rightarrow (\\texttt{popularity}, \\texttt{average popularity of the year}, \\texttt{artist's popularity})\n",
    "$$\n",
    "\n",
    "After that, we can join the `track` with the `playlist` and perform the aggregation, achieving the average of the metrics for each playlist:\n",
    "\n",
    "$$\n",
    "\\texttt{pid} \\rightarrow (\\texttt{popularity}, \\texttt{average popularity of the year}, \\texttt{artist's popularity})\n",
    "$$\n",
    "\n",
    "Now, we can calculate the `most influent` metric for each playlist taking the maximum value of the metrics.\n",
    "  \n",
    "Finally, we can aggregate the playlists by the `most influent` metric and calculate the average number of followers for each metric."
   ]
  },
  {
   "cell_type": "code",
   "execution_count": 17,
   "metadata": {},
   "outputs": [
    {
     "data": {
      "application/vnd.jupyter.widget-view+json": {
       "model_id": "959494fe0ef04c969196c1c6e297737a",
       "version_major": 2,
       "version_minor": 0
      },
      "text/plain": [
       "VBox()"
      ]
     },
     "metadata": {},
     "output_type": "display_data"
    },
    {
     "data": {
      "application/vnd.jupyter.widget-view+json": {
       "model_id": "",
       "version_major": 2,
       "version_minor": 0
      },
      "text/plain": [
       "FloatProgress(value=0.0, bar_style='info', description='Progress:', layout=Layout(height='25px', width='50%'),…"
      ]
     },
     "metadata": {},
     "output_type": "display_data"
    },
    {
     "name": "stdout",
     "output_type": "stream",
     "text": [
      "job: org.apache.spark.rdd.RDD[(Int, Int)] = MapPartitionsRDD[124] at mapValues at <console>:57\n",
      "Playlist influenced most by Track's popularity has 13 followers on average\n",
      "Playlist influenced most by popularity of the year has 145 followers on average\n",
      "Playlist influenced most by Artist's popularity has 354 followers on average\n",
      "Time taken: 592682 ms\n"
     ]
    }
   ],
   "source": [
    "val job = trackRdd.map(t => (t.album_uri, (t.uri, t.popularity))).\n",
    "  join(albumRdd.map(a => (a.uri, a.release_year))).\n",
    "  map { case (albumUri, ((trackUri, popularity), releaseYear)) => (releaseYear, (trackUri, popularity)) }.\n",
    "  join(popularityPerYear).\n",
    "  map { case (releaseYear, ((trackUri, popularity), avgPopularityInYear)) => (trackUri, (popularity, avgPopularityInYear)) }.\n",
    "  join(trackWithArtistPopularity).\n",
    "  map { case (trackUri, ((popularity, avgPopularityInYear), avgArtistPopularity)) => (trackUri, (popularity, avgPopularityInYear, avgArtistPopularity)) }.\n",
    "  join(trackInPlaylistRdd.map(t => (t.track_uri, t.pid))).\n",
    "  map { case (trackUri, ((popularity, avgPopularityInYear, avgArtistPopularity), pid)) => (pid, (popularity, avgPopularityInYear, avgArtistPopularity)) }.\n",
    "  join(playlistRdd.map(p => (p.pid, p.num_follower))).\n",
    "  map { case (pid, ((popularity, avgPopularityInYear, avgArtistPopularity), numFollower)) => (pid, (popularity, avgPopularityInYear, avgArtistPopularity, numFollower)) }.\n",
    "  aggregateByKey((0.0, 0.0, 0.0, 0, 0))(\n",
    "    { case ((accPop, accAvgPopInYear, accAvgArtistPop, _, count), (popularity, avgPopularityInYear, avgArtistPopularity, followers)) =>\n",
    "      (accPop + popularity, accAvgPopInYear + avgPopularityInYear, accAvgArtistPop + avgArtistPopularity, followers, count + 1)\n",
    "    },\n",
    "    { case ((accPop1, accAvgPopInYear1, accAvgArtistPop1, followers, count1), (accPop2, accAvgPopInYear2, accAvgArtistPop2, _, count2)) =>\n",
    "      (accPop1 + accPop2, accAvgPopInYear1 + accAvgPopInYear2, accAvgArtistPop1 + accAvgArtistPop2, followers, count1 + count2)\n",
    "    }\n",
    "  ).\n",
    "  mapValues { case (accPop, accAvgPopInYear, accAvgArtistPop, followers, count) => (accPop / count, accAvgPopInYear / count, accAvgArtistPop / count, followers) }.\n",
    "  map {\n",
    "    case (pid, (avgPop, avgPopInYear, avgArtistPop, followers)) =>\n",
    "      val maxAvg = Math.max(avgPop, Math.max(avgPopInYear, avgArtistPop))\n",
    "      val indexOfBestAvg = Seq(avgPop, avgPopInYear, avgArtistPop).indexWhere(_ >= maxAvg)\n",
    "      (indexOfBestAvg, followers)\n",
    "  }.\n",
    "  map { case (indexOfBestAvg, followers) => (indexOfBestAvg, (followers, 1)) }.\n",
    "  reduceByKey { case ((followers1, c1), (followers2, c2)) => (followers1 + followers2, c1 + c2) }.\n",
    "  mapValues { case (accF, c) => accF / c }\n",
    "\n",
    "spark.time {\n",
    "  job.collect.foreach {\n",
    "    case (0, avgFollowers) => println(s\"Playlist influenced most by Track's popularity has $avgFollowers followers on average\")\n",
    "    case (1, avgFollowers) => println(s\"Playlist influenced most by popularity of the year has $avgFollowers followers on average\")\n",
    "    case (2, avgFollowers) => println(s\"Playlist influenced most by Artist's popularity has $avgFollowers followers on average\")\n",
    "  }\n",
    "}"
   ]
  },
  {
   "cell_type": "markdown",
   "metadata": {},
   "source": [
    "### Optimization\n",
    "\n",
    "The first part of the optimization process will be performed evaluating multiple different execution plan on a restricted part of the entire job.\n",
    "The best one, according to the execution time, will be chosen and added to the final optimization."
   ]
  },
  {
   "cell_type": "markdown",
   "metadata": {},
   "source": [
    "#### Self-join\n",
    "\n",
    "The first part of the job involves a self-join, and it could be resumed as the following steps:\n",
    "\n",
    "1. Join tracks on album (only to get the year of the track)\n",
    "2. Aggregate popularity by year to get the `popularity per year`\n",
    "3. Join track with their popularity per year\n",
    "\n",
    "Only for conceptual evaluation, it's been taken the following part:"
   ]
  },
  {
   "cell_type": "code",
   "execution_count": 18,
   "metadata": {},
   "outputs": [
    {
     "data": {
      "application/vnd.jupyter.widget-view+json": {
       "model_id": "0888180bb77a498a90fbdc49e2aec07d",
       "version_major": 2,
       "version_minor": 0
      },
      "text/plain": [
       "VBox()"
      ]
     },
     "metadata": {},
     "output_type": "display_data"
    },
    {
     "data": {
      "application/vnd.jupyter.widget-view+json": {
       "model_id": "",
       "version_major": 2,
       "version_minor": 0
      },
      "text/plain": [
       "FloatProgress(value=0.0, bar_style='info', description='Progress:', layout=Layout(height='25px', width='50%'),…"
      ]
     },
     "metadata": {},
     "output_type": "display_data"
    },
    {
     "name": "stdout",
     "output_type": "stream",
     "text": [
      "popularityPerYear: org.apache.spark.rdd.RDD[(String, Double)] = MapPartitionsRDD[132] at mapValues at <console>:32\n",
      "selfJoin1: org.apache.spark.rdd.RDD[(String, (Int, Double))] = MapPartitionsRDD[142] at map at <console>:31\n",
      "Time taken: 47698 ms\n",
      "res40: Long = 2261687\n"
     ]
    }
   ],
   "source": [
    "// year -> popularity of the year\n",
    "val popularityPerYear = trackRdd.map(t => (t.album_uri, t.popularity)).\n",
    "  join(albumRdd.map(a => (a.uri, a.release_year))).\n",
    "  map { case (albumUri, (popularity, releaseYear)) => (releaseYear, popularity) }.\n",
    "  aggregateByKey((0, 0))(\n",
    "    { case ((acc, count), popularity) => (acc + popularity, count + 1) },\n",
    "    { case ((acc1, count1), (acc2, count2)) => (acc1 + acc2, count1 + count2) }\n",
    "  ).mapValues { case (acc, count) => acc.toDouble / count }\n",
    "\n",
    "val selfJoin1 = trackRdd.map(t => (t.album_uri, (t.uri, t.popularity))).\n",
    "  join(albumRdd.map(a => (a.uri, a.release_year))).\n",
    "  map { case (albumUri, ((trackUri, popularity), releaseYear)) => (releaseYear, (trackUri, popularity)) }.\n",
    "  join(popularityPerYear).\n",
    "  map { case (releaseYear, ((trackUri, popularity), avgPopularityInYear)) => (trackUri, (popularity, avgPopularityInYear)) }\n",
    "\n",
    "spark.time {\n",
    "  selfJoin1.count()\n",
    "}"
   ]
  },
  {
   "cell_type": "markdown",
   "metadata": {},
   "source": [
    "##### Broadcast variable\n",
    "\n",
    "Considering the small size of `Album` table (`289.6 MiB`, `20.1 MiB` after the map), the could be done using a *broadcast variable* as follows:"
   ]
  },
  {
   "cell_type": "code",
   "execution_count": 19,
   "metadata": {},
   "outputs": [
    {
     "data": {
      "application/vnd.jupyter.widget-view+json": {
       "model_id": "5d14ad5382584a9cbceecb9900c3b208",
       "version_major": 2,
       "version_minor": 0
      },
      "text/plain": [
       "VBox()"
      ]
     },
     "metadata": {},
     "output_type": "display_data"
    },
    {
     "data": {
      "application/vnd.jupyter.widget-view+json": {
       "model_id": "",
       "version_major": 2,
       "version_minor": 0
      },
      "text/plain": [
       "FloatProgress(value=0.0, bar_style='info', description='Progress:', layout=Layout(height='25px', width='50%'),…"
      ]
     },
     "metadata": {},
     "output_type": "display_data"
    },
    {
     "name": "stdout",
     "output_type": "stream",
     "text": [
      "albumsBroadcast: org.apache.spark.broadcast.Broadcast[scala.collection.Map[String,String]] = Broadcast(62)\n",
      "popularityPerYear: org.apache.spark.rdd.RDD[(String, Double)] = MapPartitionsRDD[146] at mapValues at <console>:31\n",
      "selfJoin2: org.apache.spark.rdd.RDD[(String, (Int, Double))] = MapPartitionsRDD[151] at map at <console>:29\n",
      "Time taken: 37996 ms\n",
      "res45: Long = 2261687\n"
     ]
    }
   ],
   "source": [
    "val albumsBroadcast = sc.broadcast(albumRdd.map(a => (a.uri, a.release_year)).collectAsMap())\n",
    "\n",
    "// year -> popularity of the year\n",
    "val popularityPerYear = trackRdd.flatMap(t => albumsBroadcast.value.get(t.album_uri).map((_, t.popularity))).\n",
    "  aggregateByKey((0, 0))(\n",
    "    { case ((acc, count), popularity) => (acc + popularity, count + 1) },\n",
    "    { case ((acc1, count1), (acc2, count2)) => (acc1 + acc2, count1 + count2) }\n",
    "  ).mapValues { case (acc, count) => acc.toDouble / count }\n",
    "\n",
    "val selfJoin2 = trackRdd.flatMap(t => albumsBroadcast.value.get(t.album_uri).map((_, (t.uri, t.popularity)))).\n",
    "  join(popularityPerYear).\n",
    "  map { case (releaseYear, ((trackUri, popularity), avgPopularityInYear)) => (trackUri, (popularity, avgPopularityInYear)) }\n",
    "\n",
    "spark.time {\n",
    "  selfJoin2.count()\n",
    "}"
   ]
  },
  {
   "cell_type": "markdown",
   "metadata": {},
   "source": [
    "##### RDD caching\n",
    "\n",
    "According to the previous consideration, the sub job's been evaluated also using the RDD caching. "
   ]
  },
  {
   "cell_type": "code",
   "execution_count": 20,
   "metadata": {},
   "outputs": [
    {
     "data": {
      "application/vnd.jupyter.widget-view+json": {
       "model_id": "271e6279bdea44dc90c448aa34f6bf7e",
       "version_major": 2,
       "version_minor": 0
      },
      "text/plain": [
       "VBox()"
      ]
     },
     "metadata": {},
     "output_type": "display_data"
    },
    {
     "data": {
      "application/vnd.jupyter.widget-view+json": {
       "model_id": "",
       "version_major": 2,
       "version_minor": 0
      },
      "text/plain": [
       "FloatProgress(value=0.0, bar_style='info', description='Progress:', layout=Layout(height='25px', width='50%'),…"
      ]
     },
     "metadata": {},
     "output_type": "display_data"
    },
    {
     "name": "stdout",
     "output_type": "stream",
     "text": [
      "albumRddCached: org.apache.spark.rdd.RDD[(String, String)] = MapPartitionsRDD[152] at map at <console>:24\n",
      "popularityPerYear: org.apache.spark.rdd.RDD[(String, Double)] = MapPartitionsRDD[159] at mapValues at <console>:33\n",
      "selfJoin3: org.apache.spark.rdd.RDD[(String, (Int, Double))] = MapPartitionsRDD[168] at map at <console>:31\n",
      "Time taken: 47603 ms\n",
      "res50: Long = 2261687\n"
     ]
    }
   ],
   "source": [
    "val albumRddCached = albumRdd.map(a => (a.uri, a.release_year)).cache()\n",
    "\n",
    "// year -> popularity of the year\n",
    "val popularityPerYear = trackRdd.map(t => (t.album_uri, t.popularity)).\n",
    "  join(albumRddCached).\n",
    "  map { case (albumUri, (popularity, releaseYear)) => (releaseYear, popularity) }.\n",
    "  aggregateByKey((0, 0))(\n",
    "    { case ((acc, count), popularity) => (acc + popularity, count + 1) },\n",
    "    { case ((acc1, count1), (acc2, count2)) => (acc1 + acc2, count1 + count2) }\n",
    "  ).mapValues { case (acc, count) => acc.toDouble / count }\n",
    "\n",
    "val selfJoin3 = trackRdd.map(t => (t.album_uri, (t.uri, t.popularity))).\n",
    "  join(albumRddCached).\n",
    "  map { case (albumUri, ((trackUri, popularity), releaseYear)) => (releaseYear, (trackUri, popularity)) }.\n",
    "  join(popularityPerYear).\n",
    "  map { case (releaseYear, ((trackUri, popularity), avgPopularityInYear)) => (trackUri, (popularity, avgPopularityInYear)) }\n",
    "\n",
    "spark.time {\n",
    "  selfJoin3.count()\n",
    "}\n",
    "unpersistRDD()"
   ]
  },
  {
   "cell_type": "markdown",
   "metadata": {},
   "source": [
    "The optimization could be extended also to the `Track` table, considering it's size (`982.8 MiB`, `120.7 MiB` after the map)."
   ]
  },
  {
   "cell_type": "code",
   "execution_count": 21,
   "metadata": {},
   "outputs": [
    {
     "data": {
      "application/vnd.jupyter.widget-view+json": {
       "model_id": "0819d4de0a684e59ac379817b46ec284",
       "version_major": 2,
       "version_minor": 0
      },
      "text/plain": [
       "VBox()"
      ]
     },
     "metadata": {},
     "output_type": "display_data"
    },
    {
     "data": {
      "application/vnd.jupyter.widget-view+json": {
       "model_id": "",
       "version_major": 2,
       "version_minor": 0
      },
      "text/plain": [
       "FloatProgress(value=0.0, bar_style='info', description='Progress:', layout=Layout(height='25px', width='50%'),…"
      ]
     },
     "metadata": {},
     "output_type": "display_data"
    },
    {
     "name": "stdout",
     "output_type": "stream",
     "text": [
      "trackRddCached: org.apache.spark.rdd.RDD[(String, (String, Int))] = MapPartitionsRDD[169] at map at <console>:24\n",
      "popularityPerYear: org.apache.spark.rdd.RDD[(String, Double)] = MapPartitionsRDD[176] at mapValues at <console>:33\n",
      "selfJoin4: org.apache.spark.rdd.RDD[(String, (Int, Double))] = MapPartitionsRDD[185] at map at <console>:31\n",
      "Time taken: 35418 ms\n",
      "res56: Long = 2261687\n"
     ]
    }
   ],
   "source": [
    "val trackRddCached = trackRdd.map(t => (t.album_uri, (t.uri, t.popularity))).cache()\n",
    "\n",
    "// year -> popularity of the year\n",
    "val popularityPerYear = trackRddCached.\n",
    "  join(albumRdd.map(a => (a.uri, a.release_year))).\n",
    "  map { case (albumUri, ((_, popularity), releaseYear)) => (releaseYear, popularity) }.\n",
    "  aggregateByKey((0, 0))(\n",
    "    { case ((acc, count), popularity) => (acc + popularity, count + 1) },\n",
    "    { case ((acc1, count1), (acc2, count2)) => (acc1 + acc2, count1 + count2) }\n",
    "  ).mapValues { case (acc, count) => acc.toDouble / count }\n",
    "\n",
    "val selfJoin4 = trackRddCached.\n",
    "  join(albumRdd.map(a => (a.uri, a.release_year))).\n",
    "  map { case (albumUri, ((trackUri, popularity), releaseYear)) => (releaseYear, (trackUri, popularity)) }.\n",
    "  join(popularityPerYear).\n",
    "  map { case (releaseYear, ((trackUri, popularity), avgPopularityInYear)) => (trackUri, (popularity, avgPopularityInYear)) }\n",
    "\n",
    "spark.time {\n",
    "  selfJoin4.count()\n",
    "}\n",
    "unpersistRDD()"
   ]
  },
  {
   "cell_type": "markdown",
   "metadata": {},
   "source": [
    "Also we can consider to cache both `Track` and `Album` RDDs, given them sizes."
   ]
  },
  {
   "cell_type": "code",
   "execution_count": 22,
   "metadata": {},
   "outputs": [
    {
     "data": {
      "application/vnd.jupyter.widget-view+json": {
       "model_id": "8c4767c98d624ea5938b50184876531b",
       "version_major": 2,
       "version_minor": 0
      },
      "text/plain": [
       "VBox()"
      ]
     },
     "metadata": {},
     "output_type": "display_data"
    },
    {
     "data": {
      "application/vnd.jupyter.widget-view+json": {
       "model_id": "",
       "version_major": 2,
       "version_minor": 0
      },
      "text/plain": [
       "FloatProgress(value=0.0, bar_style='info', description='Progress:', layout=Layout(height='25px', width='50%'),…"
      ]
     },
     "metadata": {},
     "output_type": "display_data"
    },
    {
     "name": "stdout",
     "output_type": "stream",
     "text": [
      "trackRddCached: org.apache.spark.rdd.RDD[(String, (String, Int))] = MapPartitionsRDD[186] at map at <console>:24\n",
      "albumRddCached: org.apache.spark.rdd.RDD[(String, String)] = MapPartitionsRDD[187] at map at <console>:24\n",
      "popularityPerYear: org.apache.spark.rdd.RDD[(String, Double)] = MapPartitionsRDD[193] at mapValues at <console>:33\n",
      "selfJoin5: org.apache.spark.rdd.RDD[(String, (Int, Double))] = MapPartitionsRDD[201] at map at <console>:31\n",
      "Time taken: 32289 ms\n",
      "res62: Long = 2261687\n"
     ]
    }
   ],
   "source": [
    "val trackRddCached = trackRdd.map(t => (t.album_uri, (t.uri, t.popularity))).cache()\n",
    "val albumRddCached = albumRdd.map(a => (a.uri, a.release_year)).cache()\n",
    "\n",
    "// year -> popularity of the year\n",
    "val popularityPerYear = trackRddCached.\n",
    "  join(albumRddCached).\n",
    "  map { case (albumUri, ((_, popularity), releaseYear)) => (releaseYear, popularity) }.\n",
    "  aggregateByKey((0, 0))(\n",
    "    { case ((acc, count), popularity) => (acc + popularity, count + 1) },\n",
    "    { case ((acc1, count1), (acc2, count2)) => (acc1 + acc2, count1 + count2) }\n",
    "  ).mapValues { case (acc, count) => acc.toDouble / count }\n",
    "\n",
    "val selfJoin5 = trackRddCached.\n",
    "  join(albumRddCached).\n",
    "  map { case (albumUri, ((trackUri, popularity), releaseYear)) => (releaseYear, (trackUri, popularity)) }.\n",
    "  join(popularityPerYear).\n",
    "  map { case (releaseYear, ((trackUri, popularity), avgPopularityInYear)) => (trackUri, (popularity, avgPopularityInYear)) }\n",
    "\n",
    "spark.time {\n",
    "  selfJoin5.count()\n",
    "}\n",
    "unpersistRDD()"
   ]
  },
  {
   "cell_type": "markdown",
   "metadata": {},
   "source": [
    "##### Results\n",
    "\n",
    "| Optimization            | Execution Time |\n",
    "|-------------------------|----------------|\n",
    "| Original                | 50 sec         |\n",
    "| Broadcast               | 36 sec         |\n",
    "| Album Caching           | 46 sec         |\n",
    "| Track Caching           | 35 sec         |\n",
    "| Album and Track Caching | 32 sec         |"
   ]
  },
  {
   "cell_type": "markdown",
   "metadata": {},
   "source": [
    "#### Aggregate before join & Hash partitioning of biggest RDD\n",
    "\n",
    "##### Aggregate before join\n",
    "\n",
    "Considering the initial job, the join on `Playlist` table (to get the number of followers) could be done after the first aggregation over pid on `Track_in_Playlist` table.\n",
    "\n",
    "Usually, aggregate before join is a **good practice**, in order to avoid to shuffle more data than needed.\n",
    "But, in this particular case, produce worse performance as we can see in the image below.\n",
    "\n",
    "In particular:\n",
    "- **Original Job**: `~9.7 min` image 1\n",
    "- **Aggregate before join**: `~13 min` image 2\n",
    "\n",
    "[Original Job Spark UI](./img/original_job.png)\n",
    "\n",
    "[Aggregate before join Spark UI](./img/aggregate_before_join.png)\n",
    "\n",
    "##### Hash partitioning of biggest RDD\n",
    "\n",
    "It's been tried also a partitioning of the biggest RDD (`Track_in_Playlist`, `8.6 GiB` input, `~193M` of records) in order to avoid a *reshuffle* during the join part.\n",
    "It's been taken `6` as number of partitions, considering the number of executors (2) and the number of cores (3) per executor.\n",
    "\n",
    "The result is similar to the previous one, producing a worse performance than the original job (`~11 min`).\n",
    "\n",
    "##### Merging the two optimizations\n",
    "\n",
    "The two optimizations described above have been merged and the job got a performance improvement: now the aggregation is done before the join and the biggest RDD is shuffled, avoiding the *reshuffle* during the join.\n",
    "\n",
    "The job reach an execution time of `~7.9 min`.\n",
    "\n",
    "[Aggregate before join & Hash partitioning Spark UI](./img/aggregate_before_join_and_partitioner.png)\n",
    "\n",
    "The execution has been tested with other number of partitions, but the best result has been reached with `6` partitions.\n",
    "\n",
    "- **12 partition**: `~8.3 min`\n",
    "- **18 partition**: `~8.9 min`\n"
   ]
  },
  {
   "cell_type": "code",
   "execution_count": 23,
   "metadata": {},
   "outputs": [
    {
     "data": {
      "application/vnd.jupyter.widget-view+json": {
       "model_id": "7b5460461b0c432cae6ba5d69827fb78",
       "version_major": 2,
       "version_minor": 0
      },
      "text/plain": [
       "VBox()"
      ]
     },
     "metadata": {},
     "output_type": "display_data"
    },
    {
     "data": {
      "application/vnd.jupyter.widget-view+json": {
       "model_id": "",
       "version_major": 2,
       "version_minor": 0
      },
      "text/plain": [
       "FloatProgress(value=0.0, bar_style='info', description='Progress:', layout=Layout(height='25px', width='50%'),…"
      ]
     },
     "metadata": {},
     "output_type": "display_data"
    },
    {
     "name": "stdout",
     "output_type": "stream",
     "text": [
      "popularityPerYear: org.apache.spark.rdd.RDD[(String, Double)] = MapPartitionsRDD[209] at mapValues at <console>:32\n",
      "trackWithArtistPopularity: org.apache.spark.rdd.RDD[(String, Double)] = MapPartitionsRDD[217] at mapValues at <console>:33\n",
      "import org.apache.spark.HashPartitioner\n",
      "partitioner: org.apache.spark.HashPartitioner = org.apache.spark.HashPartitioner@6\n",
      "jobAggregationBeforeJoinAndPartitioner: org.apache.spark.rdd.RDD[(Int, Int)] = MapPartitionsRDD[247] at mapValues at <console>:61\n",
      "Playlist influenced most by Track's popularity has 13 followers on average\n",
      "Playlist influenced most by popularity of the year has 145 followers on average\n",
      "Playlist influenced most by Artist's popularity has 354 followers on average\n",
      "Time taken: 473760 ms\n"
     ]
    }
   ],
   "source": [
    "// year -> popularity of the year\n",
    "val popularityPerYear = trackRdd.map(t => (t.album_uri, (t.uri, t.popularity))).\n",
    "  join(albumRdd.map(a => (a.uri, a.release_year))).\n",
    "  map { case (albumUri, ((trackUri, popularity), releaseYear)) => (releaseYear, popularity) }.\n",
    "  aggregateByKey((0, 0))(\n",
    "    { case ((acc, count), popularity) => (acc + popularity, count + 1) },\n",
    "    { case ((acc1, count1), (acc2, count2)) => (acc1 + acc2, count1 + count2) }\n",
    "  ).mapValues { case (acc, count) => acc.toDouble / count }\n",
    "\n",
    "// track -> artist's popularity\n",
    "val trackWithArtistPopularity = trackRdd.flatMap(t => t.artists.split('|').map(artistUri => (artistUri, t.uri))).\n",
    "  join(artistRdd.map(a => (a.uri, a.popularity))).\n",
    "  map { case (artistUri, (trackUri, artistPopularity)) => (trackUri, artistPopularity) }.\n",
    "  aggregateByKey((0, 0))(\n",
    "    { case ((acc, count), popularity) => (acc + popularity, count + 1) },\n",
    "    { case ((acc1, count1), (acc2, count2)) => (acc1 + acc2, count1 + count2) }\n",
    "  ).mapValues { case (acc, count) => acc.toDouble / count }\n",
    "\n",
    "import org.apache.spark.HashPartitioner\n",
    "val partitioner = new HashPartitioner(6)\n",
    "\n",
    "val jobAggregationBeforeJoinAndPartitioner = trackRdd.map(t => (t.album_uri, (t.uri, t.popularity))).\n",
    "  join(albumRdd.map(a => (a.uri, a.release_year))).\n",
    "  map { case (albumUri, ((trackUri, popularity), releaseYear)) => (releaseYear, (trackUri, popularity)) }.\n",
    "  join(popularityPerYear).\n",
    "  map { case (releaseYear, ((trackUri, popularity), avgPopularityInYear)) => (trackUri, (popularity, avgPopularityInYear)) }.\n",
    "  join(trackWithArtistPopularity).\n",
    "  map { case (trackUri, ((popularity, avgPopularityInYear), avgArtistPopularity)) => (trackUri, (popularity, avgPopularityInYear, avgArtistPopularity)) }.\n",
    "  join(trackInPlaylistRdd.map(t => (t.track_uri, t.pid)).partitionBy(partitioner)). // here the partitioner\n",
    "  map { case (trackUri, ((popularity, avgPopularityInYear, avgArtistPopularity), pid)) => (pid, (popularity, avgPopularityInYear, avgArtistPopularity)) }.\n",
    "  // the join from here is pushed down to (1)\n",
    "  aggregateByKey((0.0, 0.0, 0.0, 0))(\n",
    "    { case ((accPop, accAvgPopInYear, accAvgArtistPop, count), (popularity, avgPopularityInYear, avgArtistPopularity)) =>\n",
    "      (accPop + popularity, accAvgPopInYear + avgPopularityInYear, accAvgArtistPop + avgArtistPopularity, count + 1)\n",
    "    },\n",
    "    { case ((accPop1, accAvgPopInYear1, accAvgArtistPop1, count1), (accPop2, accAvgPopInYear2, accAvgArtistPop2, count2)) =>\n",
    "      (accPop1 + accPop2, accAvgPopInYear1 + accAvgPopInYear2, accAvgArtistPop1 + accAvgArtistPop2, count1 + count2)\n",
    "    }\n",
    "  ).\n",
    "  mapValues { case (accPop, accAvgPopInYear, accAvgArtistPop, count) => (accPop / count, accAvgPopInYear / count, accAvgArtistPop / count) }.\n",
    "  map {\n",
    "    case (pid, (avgPop, avgPopInYear, avgArtistPop)) =>\n",
    "      val maxAvg = Math.max(avgPop, Math.max(avgPopInYear, avgArtistPop))\n",
    "      val indexOfBestAvg = Seq(avgPop, avgPopInYear, avgArtistPop).indexWhere(_ >= maxAvg)\n",
    "      (pid, indexOfBestAvg)\n",
    "  }.\n",
    "  // (1) here\n",
    "  join(playlistRdd.map(p => (p.pid, p.num_follower))).\n",
    "  map { case (pid, (indexOfBestAvg, numFollower)) => (indexOfBestAvg, (numFollower, 1)) }.\n",
    "  reduceByKey { case ((accFollowers1, c1), (accFollowers2, c2)) => (accFollowers1 + accFollowers2, c1 + c2) }.\n",
    "  mapValues { case (accF, c) => accF / c }\n",
    "\n",
    "spark.time {\n",
    "  jobAggregationBeforeJoinAndPartitioner.collect.foreach {\n",
    "    case (0, avgFollowers) => println(s\"Playlist influenced most by Track's popularity has $avgFollowers followers on average\")\n",
    "    case (1, avgFollowers) => println(s\"Playlist influenced most by popularity of the year has $avgFollowers followers on average\")\n",
    "    case (2, avgFollowers) => println(s\"Playlist influenced most by Artist's popularity has $avgFollowers followers on average\")\n",
    "  }\n",
    "}"
   ]
  },
  {
   "cell_type": "markdown",
   "metadata": {},
   "source": [
    "### Merge all the optimizations\n",
    "\n",
    "The final job has been executed merging the optimizations described above.\n",
    "\n",
    "- **RDD caching**: `Album` and `Track`\n",
    "- **Aggregate before join**\n",
    "- **Hash partitioning of biggest RDD**\n",
    "\n",
    "The job has been executed in `~7.3 min`."
   ]
  },
  {
   "cell_type": "code",
   "execution_count": 24,
   "metadata": {},
   "outputs": [
    {
     "data": {
      "application/vnd.jupyter.widget-view+json": {
       "model_id": "edffad08307e4e738bb13f9e224ae409",
       "version_major": 2,
       "version_minor": 0
      },
      "text/plain": [
       "VBox()"
      ]
     },
     "metadata": {},
     "output_type": "display_data"
    },
    {
     "data": {
      "application/vnd.jupyter.widget-view+json": {
       "model_id": "",
       "version_major": 2,
       "version_minor": 0
      },
      "text/plain": [
       "FloatProgress(value=0.0, bar_style='info', description='Progress:', layout=Layout(height='25px', width='50%'),…"
      ]
     },
     "metadata": {},
     "output_type": "display_data"
    },
    {
     "name": "stdout",
     "output_type": "stream",
     "text": [
      "finalTrackRddCached: org.apache.spark.rdd.RDD[(String, (String, Int, String))] = MapPartitionsRDD[248] at map at <console>:26\n",
      "finalAlbumRddCached: org.apache.spark.rdd.RDD[(String, String)] = MapPartitionsRDD[249] at map at <console>:25\n",
      "avgPopPerYear: org.apache.spark.rdd.RDD[(String, Double)] = MapPartitionsRDD[255] at mapValues at <console>:33\n",
      "trackWithArtistPopularity: org.apache.spark.rdd.RDD[(String, Double)] = MapPartitionsRDD[263] at mapValues at <console>:33\n",
      "import org.apache.spark.HashPartitioner\n",
      "finalJob: org.apache.spark.rdd.RDD[(Int, Int)] = MapPartitionsRDD[292] at mapValues at <console>:60\n",
      "Playlist influenced most by Track's popularity has 13 followers on average\n",
      "Playlist influenced most by popularity of the year has 145 followers on average\n",
      "Playlist influenced most by Artist's popularity has 354 followers on average\n",
      "Time taken: 450923 ms\n"
     ]
    }
   ],
   "source": [
    "unpersistRDD()\n",
    "\n",
    "val finalTrackRddCached = trackRdd.map(t => (t.album_uri, (t.uri, t.popularity, t.artists))).cache()\n",
    "val finalAlbumRddCached = albumRdd.map(a => (a.uri, a.release_year)).cache()\n",
    "\n",
    "val avgPopPerYear = finalTrackRddCached.\n",
    "  join(finalAlbumRddCached).\n",
    "  map { case (albumUri, ((trackUri, popularity, _), releaseYear)) => (releaseYear, popularity) }.\n",
    "  aggregateByKey((0, 0))(\n",
    "    { case ((acc, count), popularity) => (acc + popularity, count + 1) },\n",
    "    { case ((acc1, count1), (acc2, count2)) => (acc1 + acc2, count1 + count2) }\n",
    "  ).mapValues { case (acc, count) => acc.toDouble / count } // year -> avg popularity of tracks in that year\n",
    "\n",
    "val trackWithArtistPopularity = finalTrackRddCached.flatMap(t => t._2._3.split('|').map(artistUri => (artistUri, t._2._1))).\n",
    "  join(artistRdd.map(a => (a.uri, a.popularity))).\n",
    "  map { case (artistUri, (trackUri, artistPopularity)) => (trackUri, artistPopularity) }.\n",
    "  aggregateByKey((0, 0))(\n",
    "    { case ((acc, count), popularity) => (acc + popularity, count + 1) },\n",
    "    { case ((acc1, count1), (acc2, count2)) => (acc1 + acc2, count1 + count2) }\n",
    "  ).mapValues { case (acc, count) => acc.toDouble / count } // track -> avg popularity of artists of that track\n",
    "\n",
    "import org.apache.spark.HashPartitioner\n",
    " \n",
    "val finalJob = finalTrackRddCached.map(t => (t._1, (t._2._1, t._2._2))).\n",
    "  join(finalAlbumRddCached).\n",
    "  map { case (albumUri, ((trackUri, popularity), releaseYear)) => (releaseYear, (trackUri, popularity)) }.\n",
    "  join(avgPopPerYear).\n",
    "  map { case (releaseYear, ((trackUri, popularity), avgPopularityInYear)) => (trackUri, (popularity, avgPopularityInYear)) }.\n",
    "  join(trackWithArtistPopularity).\n",
    "  map { case (trackUri, ((popularity, avgPopularityInYear), avgArtistPopularity)) => (trackUri, (popularity, avgPopularityInYear, avgArtistPopularity)) }.\n",
    "  join(trackInPlaylistRdd.map(t => (t.track_uri, t.pid)).partitionBy(new HashPartitioner(6))).\n",
    "  map { case (trackUri, ((popularity, avgPopularityInYear, avgArtistPopularity), pid)) => (pid, (popularity, avgPopularityInYear, avgArtistPopularity))}.\n",
    "  aggregateByKey((0.0, 0.0, 0.0, 0))(\n",
    "    { case ((accPop, accAvgPopInYear, accAvgArtistPop, count), (popularity, avgPopularityInYear, avgArtistPopularity)) =>\n",
    "      (accPop + popularity, accAvgPopInYear + avgPopularityInYear, accAvgArtistPop + avgArtistPopularity, count + 1)\n",
    "    },\n",
    "    { case ((accPop1, accAvgPopInYear1, accAvgArtistPop1, count1), (accPop2, accAvgPopInYear2, accAvgArtistPop2, count2)) =>\n",
    "      (accPop1 + accPop2, accAvgPopInYear1 + accAvgPopInYear2, accAvgArtistPop1 + accAvgArtistPop2, count1 + count2)\n",
    "    }\n",
    "  ).\n",
    "  mapValues { case (accPop, accAvgPopInYear, accAvgArtistPop, count) => (accPop / count, accAvgPopInYear / count, accAvgArtistPop / count) }.\n",
    "  map {\n",
    "    case (pid, (avgPop, avgPopInYear, avgArtistPop)) =>\n",
    "      val maxAvg = Math.max(avgPop, Math.max(avgPopInYear, avgArtistPop))\n",
    "      val indexOfBestAvg = Seq(avgPop, avgPopInYear, avgArtistPop).indexWhere(_ >= maxAvg)\n",
    "      (pid, indexOfBestAvg)\n",
    "  }.\n",
    "  join(playlistRdd.map(p => (p.pid, p.num_follower))).\n",
    "  map { case (pid, (indexOfBestAvg, numFollower)) => (indexOfBestAvg, (numFollower, 1)) }.\n",
    "  reduceByKey { case ((accFollowers1, c1), (accFollowers2, c2)) => (accFollowers1 + accFollowers2, c1 + c2) }.\n",
    "  mapValues { case (accF, c) => accF / c }\n",
    "\n",
    "spark.time {\n",
    "  finalJob.collect.foreach {\n",
    "    case (0, avgFollowers) => println(s\"Playlist influenced most by Track's popularity has $avgFollowers followers on average\")\n",
    "    case (1, avgFollowers) => println(s\"Playlist influenced most by popularity of the year has $avgFollowers followers on average\")\n",
    "    case (2, avgFollowers) => println(s\"Playlist influenced most by Artist's popularity has $avgFollowers followers on average\")\n",
    "  }\n",
    "}"
   ]
  },
  {
   "cell_type": "markdown",
   "metadata": {},
   "source": [
    "![Job 1 result](./img/job1_results.png)\n",
    "\n",
    "Other tests have been done, such as:\n",
    "\n",
    "- repartitioning and coalescing of `Tracks`\n",
    "- repartitioning and coalescing after aggregation during the job part\n",
    "- unpersisting the RDDs when they are not needed anymore\n",
    "\n",
    "But the best performance has been reached with the optimizations described above.\n",
    "\n",
    "Here the resume of the execution time:\n",
    "\n",
    "| Job                                           | Execution Time |\n",
    "|-----------------------------------------------|----------------|\n",
    "| Original Job                                  | 9.7 min        |\n",
    "| Aggregate before join                         | 13 min         |\n",
    "| Hash partitioning (6)                         | 11 min         |\n",
    "| Aggregate before join + Hash partitioning (6) | 7.9 min        |\n",
    "| Final Job                                     | 7.3 min        |\n",
    "| Final Job with repartition (300) on Tracks    | 7.7 min        |\n",
    "\n",
    "The achived speedup is $ S = \\frac{9.7 min}{7.3 min} = 1.32 $"
   ]
  },
  {
   "cell_type": "markdown",
   "metadata": {},
   "source": [
    "## Job 2\n",
    "\n",
    "Given the following classes: slowly danceable (tempo <= 130BPM, danceability > 0.5), swiftly danceable (tempo >130BPM, danceability > 0.5), slowly undanceable (tempo <= 130BPM, danceability <= 0.5), swiftly undanceable (tempo >130BPM, danceability <= 0.5); and the various keys (C, C#/Db, ...).\n",
    "  for each class and (key ---OR--- range of followers) get:\n",
    "  - The number of playlist.\n",
    "  - Average playlist's explicitness percentage.\n",
    "  - Average number of tracks in playlist.\n",
    "  - Average number of playlist followers.\n",
    "  <!-- - Average playlist danceability.\n",
    "  - Average playlist tempo. -->\n",
    "  (The key of a playlist is the most present key among its tracks)"
   ]
  },
  {
   "cell_type": "code",
   "execution_count": 25,
   "metadata": {},
   "outputs": [
    {
     "data": {
      "application/vnd.jupyter.widget-view+json": {
       "model_id": "0bc1e8b8301f43e9a57a15b1f9dbcfc8",
       "version_major": 2,
       "version_minor": 0
      },
      "text/plain": [
       "VBox()"
      ]
     },
     "metadata": {},
     "output_type": "display_data"
    },
    {
     "data": {
      "application/vnd.jupyter.widget-view+json": {
       "model_id": "",
       "version_major": 2,
       "version_minor": 0
      },
      "text/plain": [
       "FloatProgress(value=0.0, bar_style='info', description='Progress:', layout=Layout(height='25px', width='50%'),…"
      ]
     },
     "metadata": {},
     "output_type": "display_data"
    },
    {
     "name": "stdout",
     "output_type": "stream",
     "text": [
      "toClass: (tempo: Double, danceablility: Double)String\n",
      "toKey: (key: Int)String\n",
      "incrementKey: (map: Map[Int,Int], key: Int)scala.collection.immutable.Map[Int,Int]\n",
      "joinMap: (map1: Map[Int,Int], map2: Map[Int,Int])Map[Int,Int]\n"
     ]
    }
   ],
   "source": [
    "def toClass(tempo: Double, danceablility: Double): String = (tempo, danceablility) match {\n",
    "  case (t, d) if t <= 130 && d > 0.5 => \"slowly danceable\"\n",
    "  case (t, d) if t > 130 && d > 0.5 => \"swiftly danceable\"\n",
    "  case (t, d) if t <= 130 && d <= 0.5 => \"slowly undanceable\"\n",
    "  case (t, d) if t > 130 && d <= 0.5 => \"swiftly undanceable\"\n",
    "}\n",
    "\n",
    "def toKey(key: Int): String = Seq(\"C\", \"C#/Db\", \"D\", \"D#/Eb\", \"E\", \"F\", \"F#/Gb\", \"G\", \"G#/Ab\", \"A\", \"A#/Bb\", \"B\")(key)\n",
    "\n",
    "def incrementKey(map: Map[Int, Int], key: Int) = {\n",
    "    val currentValue = map.getOrElse(key, 0)\n",
    "    map.updated(key, currentValue + 1)\n",
    "}\n",
    "\n",
    "def joinMap(map1: Map[Int, Int], map2: Map[Int, Int]): Map[Int, Int] = map1.map { case(k, v) => (k, map2.getOrElse(k, 0) + v) }"
   ]
  },
  {
   "cell_type": "code",
   "execution_count": 26,
   "metadata": {},
   "outputs": [
    {
     "data": {
      "application/vnd.jupyter.widget-view+json": {
       "model_id": "c21b8a1ba15645579066091e649eaaea",
       "version_major": 2,
       "version_minor": 0
      },
      "text/plain": [
       "VBox()"
      ]
     },
     "metadata": {},
     "output_type": "display_data"
    },
    {
     "data": {
      "application/vnd.jupyter.widget-view+json": {
       "model_id": "",
       "version_major": 2,
       "version_minor": 0
      },
      "text/plain": [
       "FloatProgress(value=0.0, bar_style='info', description='Progress:', layout=Layout(height='25px', width='50%'),…"
      ]
     },
     "metadata": {},
     "output_type": "display_data"
    },
    {
     "name": "stdout",
     "output_type": "stream",
     "text": [
      "features: org.apache.spark.rdd.RDD[(String, (Double, Double, Int, Boolean))] = MapPartitionsRDD[298] at map at <console>:30\n",
      "tracksInPlaylist: org.apache.spark.rdd.RDD[(String, Int)] = MapPartitionsRDD[299] at map at <console>:28\n",
      "playlistWithFollowers: org.apache.spark.rdd.RDD[(Int, Int)] = MapPartitionsRDD[300] at map at <console>:28\n"
     ]
    }
   ],
   "source": [
    "val features = featureRdd.map(t => (t.uri, (t.tempo, t.danceability, t.key))).\n",
    "  join(trackRdd.map(t => (t.uri, t.explicit))).\n",
    "  map { case (uri, ((t, d, k), e)) => (uri, (t, d, k, e)) }\n",
    "\n",
    "val tracksInPlaylist = trackInPlaylistRdd.map(t => (t.track_uri, t.pid))\n",
    "\n",
    "val playlistWithFollowers = playlistRdd.map(p => (p.pid, p.num_follower))"
   ]
  },
  {
   "cell_type": "markdown",
   "metadata": {},
   "source": [
    "### First implementation\n",
    "\n",
    "Following the self-join pattern we computed the `playlistClasses` rdd by joining the `tracksInPlaylist`'s rdd with the `features`'s one and then aggregating on the playlist ID (pid) in order to compute the average tempo and danceability of each playlist. \n",
    "After that, we joined `tracksInPlaylistWithFeatures` with `playlistWithFollowers` so that by aggregating on the **pid** we could compute the ratio of explict songs and the number of followers of each playlist. Finally, we joined this last result with `playlistClasses` so that we could calculate per each of those classes the number of playlist belonging to the class, the average of explicit song ratio and number of followers.  "
   ]
  },
  {
   "cell_type": "code",
   "execution_count": 27,
   "metadata": {},
   "outputs": [
    {
     "data": {
      "application/vnd.jupyter.widget-view+json": {
       "model_id": "4422cbd9ea0940b59567ad746942d055",
       "version_major": 2,
       "version_minor": 0
      },
      "text/plain": [
       "VBox()"
      ]
     },
     "metadata": {},
     "output_type": "display_data"
    },
    {
     "data": {
      "application/vnd.jupyter.widget-view+json": {
       "model_id": "",
       "version_major": 2,
       "version_minor": 0
      },
      "text/plain": [
       "FloatProgress(value=0.0, bar_style='info', description='Progress:', layout=Layout(height='25px', width='50%'),…"
      ]
     },
     "metadata": {},
     "output_type": "display_data"
    },
    {
     "name": "stdout",
     "output_type": "stream",
     "text": [
      "tracksInPlaylistWithFeatures: org.apache.spark.rdd.RDD[(String, (Int, (Double, Double, Int, Boolean)))] = MapPartitionsRDD[303] at join at <console>:29\n",
      "playlistClasses: org.apache.spark.rdd.RDD[(Int, (String, String))] = MapPartitionsRDD[306] at mapValues at <console>:38\n",
      "job1: org.apache.spark.rdd.RDD[((String, String), (Double, Int, Int))] = MapPartitionsRDD[318] at mapValues at <console>:44\n",
      "result: Array[((String, String), (Double, Int, Int))] = Array(((D#/Eb,slowly danceable),(0.010009099181073703,1511,1099)), ((D,swiftly undanceable),(0.0,230,5340)), ((A,slowly undanceable),(0.0,852,13619)), ((G#/Ab,swiftly danceable),(0.05002174858634189,397,2299)), ((G#/Ab,slowly undanceable),(5.763688760806917E-4,679,1735)), ((A,swiftly danceable),(0.004842931937172775,809,7640)), ((B,swiftly undanceable),(0.0,282,1264)), ((D,swiftly danceable),(0.010874111250522794,768,7173)), ((A#/Bb,slowly undanceable),(0.0,1249,3216)), ((F,slowly danceable),(0.006729221031591805,2211,90055)), ((F#/Gb,slowly undanceable),(0.0,925,2439)), ((A,swiftly undanceable),(0.0,346,3554)), ((C,swiftly danceable),(0.018367595183067752,847,16442)), ((B,slowly undanceable),(2.955082742316785E-4,720,3384)), ((C#/...\n"
     ]
    }
   ],
   "source": [
    "// Compute the class of each playlist\n",
    "val tracksInPlaylistWithFeatures = tracksInPlaylist.join(features)\n",
    "\n",
    "val playlistClasses = tracksInPlaylistWithFeatures.\n",
    "    map { case (t_uri, (pid, (t, d, k, _))) => (pid, (t, d, k)) }.\n",
    "    aggregateByKey((0.0, 0.0, (0 to 11).map((_, 0)).toMap, 0))(\n",
    "        { case ((accT, accD, accK, c), (t, d, k)) => (accT + t, accD + d, incrementKey(accK, k), c + 1) },\n",
    "        { case ( (accT1, accD1, accK1, c1), (accT2, accD2, accK2, c2)) => (accT1 + accT2, accD1+ accD2, joinMap(accK1, accK2), c1 + c2) }\n",
    "    ).\n",
    "    mapValues { case (accT, accD, accK, c) => (toKey(accK.maxBy(_._2)._1), toClass(accT/c, accD/c)) } //(pid, (k, cls))\n",
    "\n",
    "val job1 = tracksInPlaylistWithFeatures.\n",
    "    map { case (t_uri, (pid, (_,_,_, e))) => (pid, if (e) 1 else 0) }.\n",
    "    join(playlistWithFollowers). // (pid, (e, num_followers)) --> consider --J&A-- or A&J\n",
    "    aggregateByKey((0, 0, 0))(\n",
    "        { case ((accE, nF, c), (e, f)) => (accE + e, f, c + 1)  },\n",
    "        { case ((accE1, nF, c1), (accE2, _, c2)) => (accE1 + accE2, nF, c1 + c2) }\n",
    "    ).\n",
    "    mapValues { case (accE, nF, c) => (accE/c, nF) }. // (pid, avgE, NF)\n",
    "    join(playlistClasses). // (pid ((avgE, NF), (k, cls)))\n",
    "    map { case (pid, ((avgE, nF), (k, cls))) => ((k, cls), (avgE, nF))}.\n",
    "    aggregateByKey((0.0, 0, 0))(\n",
    "        { case ((accE, accF, c), (e, f)) => (accE + e, accF + f, c+1) },\n",
    "        { case ((accE1, accF1, c1), (accE2, accF2, c2)) => (accE1 + accE2, accF1 + accF2, c1 + c2) }\n",
    "    ).\n",
    "    mapValues { case (accE, accF, c) => (accE/c, accF/c, c) }\n",
    "    \n",
    "val result = job1.collect    "
   ]
  },
  {
   "cell_type": "markdown",
   "metadata": {},
   "source": [
    "This job completed in around `22 minutes`. This is surely due the size of the input data, in particular those regarding the tracks in playlist which is `8.6GB` large."
   ]
  },
  {
   "cell_type": "markdown",
   "metadata": {},
   "source": [
    "## Optimizations"
   ]
  },
  {
   "cell_type": "markdown",
   "metadata": {},
   "source": [
    "As a first step toward optimizing execution time we noticed that we accessed the result of the join between `tracksInPlaylist` and `features` multiple times. So we dediced to cache it in order to avoid loading the dataset more than once and thus avoiding waste of time."
   ]
  },
  {
   "cell_type": "code",
   "execution_count": 28,
   "metadata": {},
   "outputs": [
    {
     "data": {
      "application/vnd.jupyter.widget-view+json": {
       "model_id": "4c32b52b1f8f49eba12ac4fc6746a308",
       "version_major": 2,
       "version_minor": 0
      },
      "text/plain": [
       "VBox()"
      ]
     },
     "metadata": {},
     "output_type": "display_data"
    },
    {
     "data": {
      "application/vnd.jupyter.widget-view+json": {
       "model_id": "defaa44c72204e169d0cc9cbe2885019",
       "version_major": 2,
       "version_minor": 0
      },
      "text/plain": [
       "FloatProgress(value=0.0, bar_style='info', description='Progress:', layout=Layout(height='25px', width='50%'),…"
      ]
     },
     "metadata": {},
     "output_type": "display_data"
    },
    {
     "name": "stderr",
     "output_type": "stream",
     "text": [
      "Interrupted by user\n"
     ]
    }
   ],
   "source": [
    "// Compute the class of each playlist\n",
    "val tracksInPlaylistWithFeatures = tracksInPlaylist.join(features).cache\n",
    "\n",
    "val playlistClasses = tracksInPlaylistWithFeatures.\n",
    "    map { case (t_uri, (pid, (t, d, k, _))) => (pid, (t, d, k)) }.\n",
    "    aggregateByKey((0.0, 0.0, (0 to 11).map((_, 0)).toMap, 0))(\n",
    "        { case ((accT, accD, accK, c), (t, d, k)) => (accT + t, accD + d, incrementKey(accK, k), c + 1) },\n",
    "        { case ( (accT1, accD1, accK1, c1), (accT2, accD2, accK2, c2)) => (accT1 + accT2, accD1 + accD2, joinMap(accK1, accK2), c1 + c2) }\n",
    "    ).\n",
    "    mapValues { case (accT, accD, accK, c) => (toKey(accK.maxBy(_._2)._1), toClass(accT/c, accD/c)) } //(pid, (k, cls))\n",
    "\n",
    "val job2 = tracksInPlaylistWithFeatures.\n",
    "    map { case (t_uri, (pid, (_,_,_, e))) => (pid, if (e) 1 else 0) }.\n",
    "    join(playlistWithFollowers). // (pid, (e, num_followers))\n",
    "    aggregateByKey((0, 0, 0))(\n",
    "        { case ((accE, nF, c), (e, f)) => (accE + e, f, c + 1)  },\n",
    "        { case ((accE1, nF, c1), (accE2, _, c2)) => (accE1 + accE2, nF, c1 + c2) }\n",
    "    ).\n",
    "    mapValues { case (accE, nF, c) => (accE/c, nF) }. // (pid, avgE, NF)\n",
    "    join(playlistClasses). // (pid ((avgE, NF), (k, cls)))\n",
    "    map { case (pid, ((avgE, nF), (k, cls))) => ((k, cls), (avgE, nF))}.\n",
    "    aggregateByKey((0.0, 0, 0))(\n",
    "        { case ((accE, accF, c), (e, f)) => (accE + e, accF + f, c+1) },\n",
    "        { case ((accE1, accF1, c1), (accE2, accF2, c2)) => (accE1 + accE2, accF1 + accF2, c1 + c2) }\n",
    "    ).\n",
    "    mapValues { case (accE, accF, c) => (accE/c, accF/c, c) }\n",
    "    \n",
    "val result = job2.collect    "
   ]
  },
  {
   "cell_type": "markdown",
   "metadata": {},
   "source": [
    "No reduction in time was registered as the job took still `22 minutes` to perform. We therefore tried to change the execution plan. In the previous job, when joining `tracksInPlaylistWithFeatures` with `playlistFollowers`, we performed the so called `Join & Aggregate`. So we tried to perform the `Aggregate and Join` to see if there was any benefit."
   ]
  },
  {
   "cell_type": "code",
   "execution_count": null,
   "metadata": {},
   "outputs": [],
   "source": [
    "// Compute the class of each playlist\n",
    "val tracksInPlaylistWithFeatures = tracksInPlaylist.join(features).cache\n",
    "\n",
    "val playlistClasses = tracksInPlaylistWithFeatures.\n",
    "    map { case (t_uri, (pid, (t, d, k, _))) => (pid, (t, d, k)) }.\n",
    "    aggregateByKey((0.0, 0.0, (0 to 11).map((_, 0)).toMap, 0))(\n",
    "        { case ((accT, accD, accK, c), (t, d, k)) => (accT + t, accD + d, incrementKey(accK, k), c + 1) },\n",
    "        { case ( (accT1, accD1, accK1, c1), (accT2, accD2, accK2, c2)) => (accT1 + accT2, accD1 + accD2, joinMap(accK1, accK2), c1 + c2) }\n",
    "    ).\n",
    "    mapValues { case (accT, accD, accK, c) => (toKey(accK.maxBy(_._2)._1), toClass(accT/c, accD/c)) } //(pid, (k, cls))\n",
    "\n",
    "val playlistsWithClasses = playlistWithFollowers.join(playlistClasses).mapValues { case (f, (k, cls)) => (k, cls, f) }\n",
    "\n",
    "val job3 = tracksInPlaylistWithFeatures.\n",
    "    map { case (t_uri, (pid, (_,_,_, e))) => (pid, if (e) 1 else 0) }.\n",
    "    aggregateByKey((0.0, 0))(\n",
    "        { case ((accE, c), e) => (accE + e, c + 1)},\n",
    "        { case ((accE1, c1), (accE2, c2)) => (accE1 + accE2, c1 + c2) }\n",
    "    ).\n",
    "    mapValues { case (accE, c) => accE / c }.\n",
    "    join(playlistsWithClasses). // (pid, (avgE, (k, cls, f)))\n",
    "    map { case (pid, (avgE, (k, cls, nF))) => ((k, cls), (avgE, nF))}.\n",
    "    aggregateByKey((0.0, 0, 0))(\n",
    "        { case ((accE, accF, c), (e, f)) => (accE + e, accF + f, c+1) },\n",
    "        { case ((accE1, accF1, c1), (accE2, accF2, c2)) => (accE1 + accE2, accF1 + accF2, c1 + c2) }\n",
    "    ).\n",
    "    mapValues { case (accE, accF, c) => (accE/c, accF/c, c) }\n",
    "    \n",
    "val result = job3.collect    "
   ]
  },
  {
   "cell_type": "markdown",
   "metadata": {},
   "source": [
    "By performing an *Aggregate and Join* the execution time increase of `2 minutes`. So ultimately we tried to compute the playlist classes and the requested averages in a single aggregation step before joining with `playlistWithFollowers` and aggregating to obtain the final result."
   ]
  },
  {
   "cell_type": "code",
   "execution_count": null,
   "metadata": {},
   "outputs": [],
   "source": [
    "val tracksInPlaylistWithFeatures = tracksInPlaylist.join(features).\n",
    "    map { case (trackUri, (pid, (t, d, k, e))) => (pid, (t, d, k, e)) }\n",
    "\n",
    "\n",
    "val tracksInPlaylistWithClasses = tracksInPlaylistWithFeatures.\n",
    "        aggregateByKey((0.0, 0.0, (0 to 11).map((_, 0)).toMap, 0.0, 0))(\n",
    "          { case ((accT, accD, ks, ec, c), (t, d, k, e)) => (accT+t, accD+d, incrementKey(ks, k), ec+(if (e) 1 else 0), c+1) },\n",
    "          { case ((accT1, accD1, k1, ec1, c1), (accT2, accD2, k2, ec2, c2)) => (accT1+accT2, accD1+accD2, joinMap(k1, k2), ec1+ec2, c1+c2) }).\n",
    "        mapValues({ case (accT, accD, k, ec, c) => (toKey(k.maxBy(_._2)._1), toClass(accT/c, accD/c), ec/c, c) }) // (pid, (k, class, avgE, c))\n",
    "\n",
    "val job4 = playlistWithFollowers.join(tracksInPlaylistWithClasses). // (pid, (num_follower, (k, class, avgE, c)))\n",
    "        map { case (pid, (num_follower, (k, cls, avgE, tc))) => ((k, cls), (num_follower, avgE, tc)) }.\n",
    "        aggregateByKey((0.0, 0.0, 0.0, 0))(\n",
    "          { case ((accF, accE, accTC, c), (f, e, tc)) => (accF+f, accE+e, accTC+tc, c+1) },\n",
    "          { case ((accF1, accE1, accTC1, c1), (accF2, accE2, accTC2, c2)) => (accF1+accF2, accE1+accE2, accTC1+accTC2, c1+c2) }\n",
    "        ).\n",
    "        mapValues { case (accF, accE, accTC,c) => (accF/c, accE/c, accTC/c, c) } // ((k, class), (avgF, avgE, avgTC, c))\n",
    "        \n",
    "val result = job4.collect"
   ]
  },
  {
   "cell_type": "markdown",
   "metadata": {},
   "source": [
    "This last job took in total `20 minutes`. Overall we obtain a `4 minutes` improvement."
   ]
  },
  {
   "cell_type": "markdown",
   "metadata": {},
   "source": [
    "### Further optimizations\n",
    "\n",
    "Since the last job was in term of time consuption more efficient, it has been choosen for further optimizations.\n",
    "First of all, by looking at the job details on SparkUI it becomes evident that the stage that is more costsly is the join between the `tracksInPlaylist` with the `features`. This may be due to the fact that the `tracksInPlaylist` form a total of 277 block thus 277 tasks. This very likely results in a big scheduling overhead and to the generation of a lot of intermediate files due to the shuffling strategy. So we tried reducing the number of partitions. \n",
    "\n",
    "### Coalescing the number of partitions"
   ]
  },
  {
   "cell_type": "code",
   "execution_count": null,
   "metadata": {},
   "outputs": [],
   "source": [
    "unpersistRDD()\n",
    "// val tracksInPlaylist = trackInPlaylistRdd.map(t => (t.track_uri, t.pid)).coalesce(150)\n",
    "// val tracksInPlaylist = trackInPlaylistRdd.map(t => (t.track_uri, t.pid)).coalesce(50)\n",
    "// val tracksInPlaylist = trackInPlaylistRdd.map(t => (t.track_uri, t.pid)).coalesce(10)\n",
    "val tracksInPlaylist = trackInPlaylistRdd.map(t => (t.track_uri, t.pid)).coalesce(6)\n",
    "\n",
    "\n",
    "val tracksInPlaylistWithFeatures = tracksInPlaylist.join(features).\n",
    "    map { case (trackUri, (pid, (t, d, k, e))) => (pid, (t, d, k, e)) }\n",
    "\n",
    "\n",
    "val tracksInPlaylistWithClasses = tracksInPlaylistWithFeatures.\n",
    "        aggregateByKey((0.0, 0.0, (0 to 11).map((_, 0)).toMap, 0.0, 0))(\n",
    "          { case ((accT, accD, ks, ec, c), (t, d, k, e)) => (accT+t, accD+d, incrementKey(ks, k), ec+(if (e) 1 else 0), c+1) },\n",
    "          { case ((accT1, accD1, k1, ec1, c1), (accT2, accD2, k2, ec2, c2)) => (accT1+accT2, accD1+accD2, joinMap(k1, k2), ec1+ec2, c1+c2) }).\n",
    "        mapValues({ case (accT, accD, k, ec, c) => (toKey(k.maxBy(_._2)._1), toClass(accT/c, accD/c), ec/c, c) }) // (pid, (k, class, avgE, c))\n",
    "\n",
    "val job5 = playlistWithFollowers.join(tracksInPlaylistWithClasses). // (pid, (num_follower, (k, class, avgE, c)))\n",
    "        map { case (pid, (num_follower, (k, cls, avgE, tc))) => ((k, cls), (num_follower, avgE, tc)) }.\n",
    "        aggregateByKey((0.0, 0.0, 0.0, 0))(\n",
    "          { case ((accF, accE, accTC, c), (f, e, tc)) => (accF+f, accE+e, accTC+tc, c+1) },\n",
    "          { case ((accF1, accE1, accTC1, c1), (accF2, accE2, accTC2, c2)) => (accF1+accF2, accE1+accE2, accTC1+accTC2, c1+c2) }\n",
    "        ).\n",
    "        mapValues { case (accF, accE, accTC,c) => (accF/c, accE/c, accTC/c, c) } // ((k, class), (avgF, avgE, avgTC, c))\n",
    "job5.collect        "
   ]
  },
  {
   "cell_type": "markdown",
   "metadata": {},
   "source": [
    "Here's the the result of the various executions:\n",
    "\n",
    "|N. of tasks |Join step shuffle data size|Exection time|\n",
    "|------------|---------------------------|-------------|\n",
    "|150|12.2 GB|17 min|\n",
    "|50|7.0 GB|13 min|\n",
    "|10|1704.8 MB|14 min|\n",
    "|6|---|8.6 min|\n",
    "|5|1013.7MB|9.3 min|\n",
    "\n",
    "So the best number of partitions seems to be `6`."
   ]
  },
  {
   "cell_type": "markdown",
   "metadata": {},
   "source": [
    "## Enforcing a partition criteria\n",
    "\n",
    "Next we tried to enforce the same partion criteria on the rdd involved in the join. We tried with different number of partiotions:"
   ]
  },
  {
   "cell_type": "code",
   "execution_count": null,
   "metadata": {},
   "outputs": [],
   "source": [
    "import org.apache.spark.HashPartitioner\n",
    "//val p = new HashPartitioner(50)\n",
    "//val p = new HashPartitioner(10)\n",
    "//val p = new HashPartitioner(6)\n",
    "val p = new HashPartitioner(5)\n",
    "\n",
    "unpersistRDD()\n",
    "\n",
    "val features = featureRdd.map(t => (t.uri, (t.tempo, t.danceability, t.key))).\n",
    "  join(trackRdd.map(t => (t.uri, t.explicit))).\n",
    "  map { case (uri, ((t, d, k), e)) => (uri, (t, d, k, e)) }.partitionBy(p)\n",
    "val tracksInPlaylist = trackInPlaylistRdd.map(t => (t.track_uri, t.pid)).partitionBy(p)\n",
    "\n",
    "\n",
    "val tracksInPlaylistWithFeatures = tracksInPlaylist.join(features).\n",
    "    map { case (trackUri, (pid, (t, d, k, e))) => (pid, (t, d, k, e)) }\n",
    "\n",
    "\n",
    "val tracksInPlaylistWithClasses = tracksInPlaylistWithFeatures.\n",
    "        aggregateByKey((0.0, 0.0, (0 to 11).map((_, 0)).toMap, 0.0, 0))(\n",
    "          { case ((accT, accD, ks, ec, c), (t, d, k, e)) => (accT+t, accD+d, incrementKey(ks, k), ec+(if (e) 1 else 0), c+1) },\n",
    "          { case ((accT1, accD1, k1, ec1, c1), (accT2, accD2, k2, ec2, c2)) => (accT1+accT2, accD1+accD2, joinMap(k1, k2), ec1+ec2, c1+c2) }).\n",
    "        mapValues({ case (accT, accD, k, ec, c) => (toKey(k.maxBy(_._2)._1), toClass(accT/c, accD/c), ec/c, c) }).partitionBy(p) // (pid, (k, class, avgE, c))\n",
    "\n",
    "val job4 = playlistWithFollowers.partitionBy(p).join(tracksInPlaylistWithClasses). // (pid, (num_follower, (k, class, avgE, c)))\n",
    "        map { case (pid, (num_follower, (k, cls, avgE, tc))) => ((k, cls), (num_follower, avgE, tc)) }.\n",
    "        aggregateByKey((0.0, 0.0, 0.0, 0))(\n",
    "          { case ((accF, accE, accTC, c), (f, e, tc)) => (accF+f, accE+e, accTC+tc, c+1) },\n",
    "          { case ((accF1, accE1, accTC1, c1), (accF2, accE2, accTC2, c2)) => (accF1+accF2, accE1+accE2, accTC1+accTC2, c1+c2) }\n",
    "        ).\n",
    "        mapValues { case (accF, accE, accTC,c) => (accF/c, accE/c, accTC/c, c) } // ((k, class), (avgF, avgE, avgTC, c))\n",
    "val result = job4.collect        "
   ]
  },
  {
   "cell_type": "markdown",
   "metadata": {},
   "source": [
    "Here's the the result of the various executions:\n",
    "\n",
    "|N. of tasks |Join step shuffle data size|Exection time|\n",
    "|------------|---------------------------|-------------|\n",
    "|50|7.0 GB|13 min|\n",
    "|10|1704.8 MB|12 min|\n",
    "|6|---|7.5 min|\n",
    "|5|1013.7 MB|7.5 min|\n",
    "\n",
    "So the best number of partitions seems to be `6 or 5`.\n",
    "\n",
    "So overall we obtain a speed-up of $ S=\\frac{20 min}{7.5 min} = 2.66 $"
   ]
  }
 ],
 "metadata": {
  "kernelspec": {
   "display_name": "Spark",
   "language": "scala",
   "name": "sparkkernel"
  },
  "language_info": {
   "codemirror_mode": "text/x-scala",
   "file_extension": ".sc",
   "mimetype": "text/x-scala",
   "name": "scala",
   "pygments_lexer": "scala"
  }
 },
 "nbformat": 4,
 "nbformat_minor": 2
}
