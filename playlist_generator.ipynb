{
 "cells": [
  {
   "cell_type": "code",
   "execution_count": null,
   "metadata": {},
   "outputs": [],
   "source": [
    "from dataclasses import dataclass\n",
    "\n",
    "@dataclass(eq=True, frozen=True)\n",
    "class Playlist:\n",
    "    pid: int\n",
    "    name: str\n",
    "    num_followers: int\n",
    "\n",
    "@dataclass(eq=True, frozen=True)\n",
    "class TrackInPlaylist:\n",
    "    pid: int\n",
    "    track_uri: str\n",
    "    pos: int"
   ]
  },
  {
   "cell_type": "code",
   "execution_count": null,
   "metadata": {},
   "outputs": [],
   "source": [
    "import csv\n",
    "feature_file = 'output/features.csv'\n",
    "tracks_uri = []\n",
    "with open(feature_file, mode='r') as csv_file:\n",
    "    tracks_uri = [row['uri'] for row in csv.DictReader(csv_file)]\n",
    "\n",
    "print(tracks_uri[0])    "
   ]
  },
  {
   "cell_type": "code",
   "execution_count": null,
   "metadata": {},
   "outputs": [],
   "source": [
    "import random\n",
    "\n",
    "words = [[\n",
    "    \"The\", \"Quick\", \"Brown\", \"Fox\", \"Jumps\",\n",
    "    \"Over\", \"The\", \"Lazy\", \"Dog\", \"In\",\n",
    "    \"A\", \"Forest\", \"Deep\", \"Dark\", \"Silence\",\n",
    "    \"Night\", \"Stars\", \"Shine\", \"Brightly\", \"Moon\"\n",
    "],[\n",
    "    \"Time\", \"Flies\", \"Like\", \"An\", \"Arrow\",\n",
    "    \"Fruit\", \"Sweet\", \"Juicy\", \"Sun\", \"Warm\",\n",
    "    \"Gentle\", \"Breeze\", \"Whisper\", \"Secrets\", \"Laughter\",\n",
    "    \"Joy\", \"Music\", \"Harmony\", \"Serene\", \"Peace\"\n",
    "],[\n",
    "    \"Love\", \"Blooms\", \"Heart\", \"Beats\", \"Tender\",\n",
    "    \"Embrace\", \"Kiss\", \"Passion\", \"Fire\", \"Spark\",\n",
    "    \"Ocean\", \"Waves\", \"Shore\", \"Sands\", \"Eternal\",\n",
    "    \"Forever\", \"Promise\", \"Trust\", \"Unity\", \"Together\"\n",
    "],[\n",
    "    \"Sky\", \"Blue\", \"Clouds\", \"Float\", \"High\",\n",
    "    \"Birds\", \"Sing\", \"Trees\", \"Tall\", \"Grass\",\n",
    "    \"Green\", \"Meadow\", \"Flowers\", \"Bloom\", \"Spring\",\n",
    "    \"Fresh\", \"Rain\", \"Clean\", \"Earth\", \"Alive\"\n",
    "],[\n",
    "    \"Adventure\", \"Begins\", \"Path\", \"Wander\", \"Explore\",\n",
    "    \"Discovery\", \"Curiosity\", \"Map\", \"Treasure\", \"Hidden\",\n",
    "    \"Quest\", \"Brave\", \"Courage\", \"Dream\", \"Imagine\",\n",
    "    \"Create\", \"Inspire\", \"Achieve\", \"Journey\", \"Destination\"\n",
    "]]\n",
    "\n",
    "def new_playlist_name():\n",
    "    playlist = []\n",
    "    for i in range(5):\n",
    "        playlist.append(random.choice(words[i]))\n",
    "    return \" \".join(playlist)\n",
    "\n",
    "def get_songs_in_playlist(pid):\n",
    "    num_of_songs = random.randint(5, 250)\n",
    "    songs = set()\n",
    "    while len(songs) < num_of_songs:\n",
    "        songs.add(TrackInPlaylist(pid, random.choice(tracks_uri), len(songs)+1))\n",
    "    return songs"
   ]
  },
  {
   "cell_type": "code",
   "execution_count": null,
   "metadata": {},
   "outputs": [],
   "source": [
    "playlists = set()\n",
    "tracks_in_playlists = set()\n",
    "new_pid = 1_000_000\n",
    "playlist_to_generate = 1_000_000\n",
    "while len(playlists) < playlist_to_generate:\n",
    "    new_pid = new_pid + 1\n",
    "    playlists.add(Playlist(new_pid, new_playlist_name(), random.randint(0, 10_000)))\n",
    "    tracks_in_playlists.update(get_songs_in_playlist(new_pid))\n",
    "\n",
    "with open('output/playlists.csv', mode='w+') as csv_file:\n",
    "    fieldnames = ['pid', 'name', 'num_followers']\n",
    "    writer = csv.DictWriter(csv_file, fieldnames=fieldnames)\n",
    "    writer.writeheader()\n",
    "    for playlist in playlists:\n",
    "        writer.writerow(playlist.__dict__)\n",
    "\n",
    "with open('output/tracks_in_playlists.csv', mode='w+') as csv_file:\n",
    "    fieldnames = ['pid', 'track_uri', 'pos']\n",
    "    writer = csv.DictWriter(csv_file, fieldnames=fieldnames)\n",
    "    writer.writeheader()\n",
    "    for track in tracks_in_playlists:\n",
    "        writer.writerow(track.__dict__)        "
   ]
  }
 ],
 "metadata": {
  "kernelspec": {
   "display_name": "Python 3",
   "language": "python",
   "name": "python3"
  },
  "language_info": {
   "codemirror_mode": {
    "name": "ipython",
    "version": 3
   },
   "file_extension": ".py",
   "mimetype": "text/x-python",
   "name": "python",
   "nbconvert_exporter": "python",
   "pygments_lexer": "ipython3",
   "version": "3.11.8"
  }
 },
 "nbformat": 4,
 "nbformat_minor": 2
}
